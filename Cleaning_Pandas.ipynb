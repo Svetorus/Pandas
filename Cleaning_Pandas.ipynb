{
 "cells": [
  {
   "cell_type": "code",
   "execution_count": 2,
   "metadata": {},
   "outputs": [],
   "source": [
    "# Импортируем библиотеки\n",
    "import numpy as np # библиотека для работы с числами(математические вычисления)\n",
    "import pandas as pd # библиотека для работы с таблицами\n",
    "import xlsxwriter\n",
    "# import pylab, math"
   ]
  },
  {
   "cell_type": "code",
   "execution_count": 3,
   "metadata": {},
   "outputs": [],
   "source": [
    "#!pip install openpyxl "
   ]
  },
  {
   "cell_type": "code",
   "execution_count": 4,
   "metadata": {},
   "outputs": [],
   "source": [
    "# Документация serias\n",
    "# https://pandas.pydata.org/pandas-docs/stable/reference/series.html"
   ]
  },
  {
   "cell_type": "code",
   "execution_count": 5,
   "metadata": {},
   "outputs": [],
   "source": [
    "# Загружаем данные из таблицы Excel\n",
    "df_1 = pd.read_csv(\"emails_all_no_email_dublicates.csv\")"
   ]
  },
  {
   "cell_type": "code",
   "execution_count": 1,
   "metadata": {},
   "outputs": [],
   "source": [
    "# Смотрим таблицу(первые пять строк)\n",
    "df_1.head()"
   ]
  },
  {
   "cell_type": "markdown",
   "metadata": {},
   "source": [
    "## Анализ данных"
   ]
  },
  {
   "cell_type": "code",
   "execution_count": 7,
   "metadata": {},
   "outputs": [
    {
     "data": {
      "text/html": [
       "<div>\n",
       "<style scoped>\n",
       "    .dataframe tbody tr th:only-of-type {\n",
       "        vertical-align: middle;\n",
       "    }\n",
       "\n",
       "    .dataframe tbody tr th {\n",
       "        vertical-align: top;\n",
       "    }\n",
       "\n",
       "    .dataframe thead th {\n",
       "        text-align: right;\n",
       "    }\n",
       "</style>\n",
       "<table border=\"1\" class=\"dataframe\">\n",
       "  <thead>\n",
       "    <tr style=\"text-align: right;\">\n",
       "      <th></th>\n",
       "      <th>Index</th>\n",
       "    </tr>\n",
       "  </thead>\n",
       "  <tbody>\n",
       "    <tr>\n",
       "      <th>count</th>\n",
       "      <td>115336.000000</td>\n",
       "    </tr>\n",
       "    <tr>\n",
       "      <th>mean</th>\n",
       "      <td>74219.969298</td>\n",
       "    </tr>\n",
       "    <tr>\n",
       "      <th>std</th>\n",
       "      <td>79914.354740</td>\n",
       "    </tr>\n",
       "    <tr>\n",
       "      <th>min</th>\n",
       "      <td>0.000000</td>\n",
       "    </tr>\n",
       "    <tr>\n",
       "      <th>25%</th>\n",
       "      <td>20034.000000</td>\n",
       "    </tr>\n",
       "    <tr>\n",
       "      <th>50%</th>\n",
       "      <td>59838.500000</td>\n",
       "    </tr>\n",
       "    <tr>\n",
       "      <th>75%</th>\n",
       "      <td>88998.250000</td>\n",
       "    </tr>\n",
       "    <tr>\n",
       "      <th>max</th>\n",
       "      <td>512417.000000</td>\n",
       "    </tr>\n",
       "  </tbody>\n",
       "</table>\n",
       "</div>"
      ],
      "text/plain": [
       "               Index\n",
       "count  115336.000000\n",
       "mean    74219.969298\n",
       "std     79914.354740\n",
       "min         0.000000\n",
       "25%     20034.000000\n",
       "50%     59838.500000\n",
       "75%     88998.250000\n",
       "max    512417.000000"
      ]
     },
     "execution_count": 7,
     "metadata": {},
     "output_type": "execute_result"
    }
   ],
   "source": [
    "# просмотр мин, сред, мах значений по колонкам c типом int\n",
    "df_1.describe()"
   ]
  },
  {
   "cell_type": "code",
   "execution_count": 8,
   "metadata": {},
   "outputs": [
    {
     "data": {
      "text/plain": [
       "(115336, 7)"
      ]
     },
     "execution_count": 8,
     "metadata": {},
     "output_type": "execute_result"
    }
   ],
   "source": [
    "# Информация кол-во строк и колонок\n",
    "df_1.shape"
   ]
  },
  {
   "cell_type": "code",
   "execution_count": 9,
   "metadata": {},
   "outputs": [
    {
     "name": "stdout",
     "output_type": "stream",
     "text": [
      "<class 'pandas.core.frame.DataFrame'>\n",
      "RangeIndex: 115336 entries, 0 to 115335\n",
      "Data columns (total 7 columns):\n",
      " #   Column       Non-Null Count   Dtype \n",
      "---  ------       --------------   ----- \n",
      " 0   Index        115336 non-null  int64 \n",
      " 1   Комплекс     48699 non-null   object\n",
      " 2   ОИВ          48699 non-null   object\n",
      " 3   Организация  115298 non-null  object\n",
      " 4   ФИО          115336 non-null  object\n",
      " 5   СНИЛС        48699 non-null   object\n",
      " 6   Email_mos    115336 non-null  object\n",
      "dtypes: int64(1), object(6)\n",
      "memory usage: 6.2+ MB\n"
     ]
    }
   ],
   "source": [
    "# Общая информация\n",
    "df_1.info()"
   ]
  },
  {
   "cell_type": "code",
   "execution_count": 10,
   "metadata": {},
   "outputs": [
    {
     "data": {
      "text/plain": [
       "Index           int64\n",
       "Комплекс       object\n",
       "ОИВ            object\n",
       "Организация    object\n",
       "ФИО            object\n",
       "СНИЛС          object\n",
       "Email_mos      object\n",
       "dtype: object"
      ]
     },
     "execution_count": 10,
     "metadata": {},
     "output_type": "execute_result"
    }
   ],
   "source": [
    "# Выводим типы данных\n",
    "df_1.dtypes"
   ]
  },
  {
   "cell_type": "code",
   "execution_count": 11,
   "metadata": {},
   "outputs": [
    {
     "data": {
      "text/plain": [
       "Index              0\n",
       "Комплекс       66637\n",
       "ОИВ            66637\n",
       "Организация       38\n",
       "ФИО                0\n",
       "СНИЛС          66637\n",
       "Email_mos          0\n",
       "dtype: int64"
      ]
     },
     "execution_count": 11,
     "metadata": {},
     "output_type": "execute_result"
    }
   ],
   "source": [
    "# показывает NaN(количество пропущенных значений) по колонкам\n",
    "len(df_1)-df_1.count() "
   ]
  },
  {
   "cell_type": "code",
   "execution_count": 12,
   "metadata": {
    "scrolled": true
   },
   "outputs": [
    {
     "data": {
      "text/plain": [
       "Index           0.00\n",
       "Комплекс       57.78\n",
       "ОИВ            57.78\n",
       "Организация     0.03\n",
       "ФИО             0.00\n",
       "СНИЛС          57.78\n",
       "Email_mos       0.00\n",
       "dtype: float64"
      ]
     },
     "execution_count": 12,
     "metadata": {},
     "output_type": "execute_result"
    }
   ],
   "source": [
    "# Количество пропущенных значений (в процентах)\n",
    "round((len(df_1) - df_1.count()) / len(df_1) * 100, 2)#.sort_values(ascending=False)"
   ]
  },
  {
   "cell_type": "code",
   "execution_count": 14,
   "metadata": {},
   "outputs": [
    {
     "data": {
      "text/plain": [
       "('Index', 7, 'СНИЛС')"
      ]
     },
     "execution_count": 14,
     "metadata": {},
     "output_type": "execute_result"
    }
   ],
   "source": [
    "df_1.columns[0],len(df_1.columns),df_1.columns[5]"
   ]
  },
  {
   "cell_type": "code",
   "execution_count": 19,
   "metadata": {},
   "outputs": [
    {
     "name": "stdout",
     "output_type": "stream",
     "text": [
      " сol_0 : Index\n",
      " сol_1 : Комплекс\n",
      " сol_2 : ОИВ\n",
      " сol_3 : Организация\n",
      " сol_4 : ФИО\n",
      " сol_5 : СНИЛС\n",
      " сol_6 : Email_mos\n"
     ]
    }
   ],
   "source": [
    "def numering(df):\n",
    "    n = 0\n",
    "    for i in df.columns:\n",
    "        if n < len(df.columns):\n",
    "            print(f' сol_{n}'+' : '+f'{i}')\n",
    "        n = n+1\n",
    "        \n",
    "numering(df_1)"
   ]
  },
  {
   "cell_type": "code",
   "execution_count": 18,
   "metadata": {},
   "outputs": [],
   "source": [
    "col_0 = df_1.columns[0]\n",
    "col_1 = df_1.columns[1]\n",
    "col_2 = df_1.columns[2]\n",
    "col_3 = df_1.columns[3]\n",
    "col_4 = df_1.columns[4]\n",
    "col_5 = df_1.columns[5]\n",
    "col_6 = df_1.columns[6]\n",
    "# col_7 = df_1.columns[7]\n",
    "# col_8 = df_1.columns[8]\n",
    "# col_9  = df_1.columns[9]\n",
    "# col_10 = df_1.columns[10]\n",
    "# col_11 = df_1.columns[11]\n",
    "# col_12 = df_1.columns[12]\n",
    "# col_13 = df_1.columns[13]\n",
    "# col_14 = df_1.columns[14]\n",
    "# col_15 = df_1.columns[15]\n",
    "# col_16 = df_1.columns[16]\n",
    "# col_18 = df_1.columns[17]\n",
    "# col_19 = df_1.columns[18]\n",
    "# col_20 = df_1.columns[19]"
   ]
  },
  {
   "cell_type": "code",
   "execution_count": 20,
   "metadata": {},
   "outputs": [
    {
     "data": {
      "text/plain": [
       "array(['Егорова Наталия Владимировна 1',\n",
       "       'Потапова Екатерина Юрьевна таб. 01030', 'АИС МФЦ Нагрузка10'],\n",
       "      dtype=object)"
      ]
     },
     "execution_count": 20,
     "metadata": {},
     "output_type": "execute_result"
    }
   ],
   "source": [
    "# выводим любые цифры в колонке\n",
    "df_1[col_4][df_1[col_4].str.contains('[0-9]',na=False)].head(3).unique()"
   ]
  },
  {
   "cell_type": "code",
   "execution_count": 25,
   "metadata": {},
   "outputs": [
    {
     "data": {
      "text/plain": [
       "22549    1C@mos.ru\n",
       "37767    12@mos.ru\n",
       "39866     m@mos.ru\n",
       "40446    Pd@mos.ru\n",
       "40977    dd@mos.ru\n",
       "Name: Email_mos, dtype: object"
      ]
     },
     "execution_count": 25,
     "metadata": {},
     "output_type": "execute_result"
    }
   ],
   "source": [
    "df_1[col_6][df_1[col_6].str.contains('^\\w{0,2}@mos.ru',na=False)].head()"
   ]
  },
  {
   "cell_type": "code",
   "execution_count": null,
   "metadata": {},
   "outputs": [],
   "source": []
  },
  {
   "cell_type": "code",
   "execution_count": 2,
   "metadata": {
    "scrolled": true
   },
   "outputs": [],
   "source": [
    "df_1[col_15][df_1[col_15].str.contains('^[\\w\\.\\+\\-]+\\@[\\w]+\\.[a-z]{2,3}$',na=False)].tail(10)"
   ]
  },
  {
   "cell_type": "code",
   "execution_count": 3,
   "metadata": {},
   "outputs": [],
   "source": [
    "df_1[col_15][df_1[col_15].str.contains('^[A-Za-z0-9\\.\\+_-]+@[A-Za-z0-9\\._-]+\\.[a-zA-Z]*$',na=False)].head(10)"
   ]
  },
  {
   "cell_type": "code",
   "execution_count": 4,
   "metadata": {
    "scrolled": true
   },
   "outputs": [],
   "source": [
    "df_1[col_15][df_1[col_15].str.contains('[^@]+@[^@]+\\.[^@]+',na=False)].head(10)"
   ]
  },
  {
   "cell_type": "markdown",
   "metadata": {},
   "source": [
    "### Функции"
   ]
  },
  {
   "cell_type": "code",
   "execution_count": 29,
   "metadata": {},
   "outputs": [
    {
     "name": "stdout",
     "output_type": "stream",
     "text": [
      "Кол-во значений в колонке : 512750\n",
      "Кол-во уникальных значений : 9\n",
      "Кол-во значений NaN : 0\n",
      "Кол-во в начале строки пробелов : 0\n",
      "Кол-во значений уникальных ^ пробелы : 0\n",
      "Кол-во значений пробелы в конце строки : 0\n",
      "Кол-во значений уникальных $ пробелов : 0\n"
     ]
    }
   ],
   "source": [
    "def looking_for_anomalies(df,column):\n",
    "    # выводим пробелы в начале строки \n",
    "    print(f\"Кол-во значений в колонке : {df_1[column].count()}\")\n",
    "    print(f\"Кол-во уникальных значений : {df[column].nunique()}\")\n",
    "    print(f\"Кол-во значений NaN : {len(df_1[column])-df_1[column].count()}\")\n",
    "    print(f\"Кол-во в начале строки пробелов : {df_1[column][df_1[column].str.contains('^ ',na=False)].count()}\")\n",
    "    print(f\"Кол-во значений уникальных ^ пробелы : {df_1[column][df_1[column].str.contains('^ ',na=False)].nunique()}\")\n",
    "    print(f\"Кол-во значений пробелы в конце строки : {df_1[column][df_1[column].str.contains(' $',na=False)].count()}\")\n",
    "    print(f\"Кол-во значений уникальных $ пробелов : {df_1[column][df_1[column].str.contains(' $',na=False)].nunique()}\")\n",
    "\n",
    "looking_for_anomalies(df_1,col_0)"
   ]
  },
  {
   "cell_type": "code",
   "execution_count": 19,
   "metadata": {},
   "outputs": [
    {
     "data": {
      "text/plain": [
       "1250"
      ]
     },
     "execution_count": 19,
     "metadata": {},
     "output_type": "execute_result"
    }
   ],
   "source": [
    "df_1[col_15].loc[df_1[col_15].str.contains('^ ',na=False)].count()"
   ]
  },
  {
   "cell_type": "code",
   "execution_count": 46,
   "metadata": {},
   "outputs": [],
   "source": [
    "numering(df_1)"
   ]
  },
  {
   "cell_type": "code",
   "execution_count": 30,
   "metadata": {},
   "outputs": [
    {
     "name": "stdout",
     "output_type": "stream",
     "text": [
      "Кол-во уникальных значений: 9\n",
      "Кол-во значений NaN: 0\n",
      "Кол-во с буквами : 512750\n",
      "Кол-во уникальных с буквами : 9\n",
      "Кол-во с цифрами : 0\n",
      "Кол-во уникальных с цифрами : 0\n",
      "Кол-во только символы в строке: 0\n",
      "Кол-во уникальных только символы в строке: 0\n"
     ]
    }
   ],
   "source": [
    "def check_letter_and_number(df,column):\n",
    "    print(f\"Кол-во уникальных значений: {df[column].nunique()}\")\n",
    "    print(f\"Кол-во значений NaN: {len(df[column])-df[column].count()}\")\n",
    "    print(f\"Кол-во с буквами : {df[column][df[column].str.contains('[A-Za-zА-Яа-я]',na=False)].count()}\")\n",
    "    print(f\"Кол-во уникальных с буквами : {df[column][df[column].str.contains('[A-Za-zА-Яа-я]',na=False)].nunique()}\")\n",
    "    print(f\"Кол-во с цифрами : {df[column][df[column].str.contains('[0-9]',na=False)].count()}\")\n",
    "    print(f\"Кол-во уникальных с цифрами : {df[column][df[column].str.contains('[0-9]',na=False)].nunique()}\")\n",
    "    print(f\"Кол-во только символы в строке: {df[column][df[column].str.contains('^[^0-9][^A-Za-zА-Яа-я]*$',na=False)].count()}\")\n",
    "    print(f\"Кол-во уникальных только символы в строке: {df[column][df[column].str.contains('^[^0-9][^A-Za-zА-Яа-я]*$',na=False)].nunique()}\")\n",
    "    \n",
    "check_letter_and_number(df_1,col_0)"
   ]
  },
  {
   "cell_type": "code",
   "execution_count": 41,
   "metadata": {},
   "outputs": [],
   "source": [
    "# def email_anomalies(df,column):\n",
    "#     # Кол-во до двух знаков перед знаком \"@\"\n",
    "#     before_dot = df.select(column).filter(col(column).rlike(\"^[\\w|\\W]{0,2}@\")).count()\n",
    "#     # Кол-во уникальных до двух знаков перед знаком \"@\"\n",
    "#     before_dot_distinct = df.select(column).filter(col(column).rlike(\"^[\\w|\\W]{0,2}@\")).distinct().count()\n",
    "#     # Кол-во кириллицы до знаком \"@\"\n",
    "#     kirillica = df.select(column).filter(col(column).rlike(\"^[\\w|\\W]{0,}@\")).count()\n",
    "#     # Кол-во уникальных кириллицы до знаком \"@\"\n",
    "#     kirillica_distinct = df.select(column).filter(col(column).rlike(\"^[\\w|\\W]{0,}@\")).distinct().count()\n",
    "#     # Кол-во не допутимых с доменов mail.ru\n",
    "#     yandex = df.select(column).filter(col(column).rlike(\"^[0-9]@yandex.ru\")).count()\n",
    "#     # Кол-во уникальных не допутимых с доменов mail.ru\n",
    "#     yandex_unic = df.select(column).filter(col(column).rlike(\"^[0-9]@yandex.ru\")).distinct().count()\n",
    "#     # Кол-во не допутимых с доменов mail.ru\n",
    "#     mail = df.select(column).filter(col(column).rlike(\"^[\\w|\\W]{1,4}@mail.ru\")).count()\n",
    "#     # Кол-во уникальных не допутимых с доменов mail.ru\n",
    "#     mail_unic = df.select(column).filter(col(column).rlike(\"^[\\w|\\W]{1,4}@mail.ru\")).distinct().count()\n",
    "#     # Кол-во не допутимых с доменов gmail.ru\n",
    "#     gmail = df.select(column).filter(col(column).rlike(\"^[\\w|\\W]{1,6}@gmail.ru\")).count()\n",
    "#     # Кол-во уникальных не допутимых с доменов gmail.ru\n",
    "#     gmail_unic = df.select(column).filter(col(column).rlike(\"^[\\w|\\W]{1,6}@gmail.ru\")).distinct().count()\n",
    "\n",
    "#     print(f\"Кол-во значений NaN : {df.select(column).filter(col(column).rlike('^[nan]*$')).count()}\")\n",
    "#     print(f\"Кол-во почт без знака \"@\"(вкл NaN) : {df.select(column).filter(col(column).rlike('^[^@]*$')).count()}\")\n",
    "#     print(f\"Кол-во уникальных почт без знака \"@\" : {df.select(column).filter(col(column).rlike('^[^@]*$')).distinct().count()}\")\n",
    "#     print(f\"Кол-во до двух знаков(символов) перед знаком \"@\" : {df.select(column).filter(col(column).rlike('^[\\w|\\W]{0,2}@')).count()}\")\n",
    "#     print(f\"Кол-во уникальных до двух знаков перед знаком \"@\" : {before_dot_distinct}\")\n",
    "#     print(f\"Кол-во кириллицы до знака \"@\" : {kirillica}\")\n",
    "#     print(f\"Кол-во уникальных кириллицы до знака \"@\" : {kirillica_distinct}\")\n",
    "#     print(f\"Кол-во не допустимых с доменом yandex.ru : {yandex}\")\n",
    "#     print(f\"Кол-во уникальных не допустимых с доменом yandex.ru : {yandex_unic}\")\n",
    "#     print(f\"Кол-во не допустимых с доменом mail.ru : {mail}\")\n",
    "#     print(f\"Кол-во уникальных не допустимых с доменом mail.ru : {mail_unic}\")\n",
    "#     print(f\"Кол-во не допустимых с доменом gmail.ru : {gmail}\")\n",
    "#     print(f\"Кол-во уникальных не допустимых с доменом gmail.ru : {gmail_unic}\")\n",
    "    \n",
    "# email_anomalies(df_1,col_0)"
   ]
  },
  {
   "cell_type": "code",
   "execution_count": null,
   "metadata": {},
   "outputs": [],
   "source": []
  },
  {
   "cell_type": "code",
   "execution_count": 140,
   "metadata": {},
   "outputs": [
    {
     "name": "stdout",
     "output_type": "stream",
     "text": [
      "Кол-во значений NaN: 36901\n",
      "Кол-во почт без знака '@'(без NaN) : 3\n",
      "Кол-во уникальных почт без знака '@' : 2\n",
      "Кол-во до двух знаков(символов) перед знаком '@' : 29966\n",
      "Кол-во уникальных до двух знаков(символов) перед знаком '@' : 1367\n",
      "Кол-во кириллицы до знака '@' : 1904\n",
      "Кол-во уникальных кириллицы до знака '@' : 795\n",
      "Кол-во кириллицы до @yandex.ru, @mail.ru, @gmail.ru : 1637\n",
      "Кол-во уникальных кириллицы до @yandex.ru, @mail.ru, @gmail.ru : 600\n",
      "Кол-во не допустимых с доменом yandex.ru : 225\n",
      "Кол-во уникальных не допустимых с доменом yandex.ru : 4\n",
      "Кол-во не допустимых с доменом mail.ru : 45881\n",
      "Кол-во уникальных не допустимых с доменом mail.ru : 4287\n",
      "Кол-во не допустимых с доменом gmail.ru : 31\n",
      "Кол-во уникальных не допустимых с доменом gmail.ru : 28\n"
     ]
    }
   ],
   "source": [
    "# Проверяем аномалии в почте\n",
    "def email_anomalies(df,column):\n",
    "    # Кол-во до двух знаков перед знаком \"@\"\n",
    "    before_dot = df[column][df[column].str.contains('^[\\w|\\W]{0,2}@',na=False)].count()\n",
    "    # Кол-во уникальных до двух знаков перед знаком \"@\"\n",
    "    before_dot_unique = df[column][df[column].str.contains('^[\\w|\\W]{0,2}@',na=False)].nunique()\n",
    "    # Кол-во кириллицы до знаком \"@\"\n",
    "    kirillica = df[column][df[column].str.contains('^[А-Яа-я]{0,}@',na=False)].count()\n",
    "    # Кол-во уникальных кириллицы до знаком \"@\"\n",
    "    kirillica_unique = df[column][df[column].str.contains('^[А-Яа-я]{0,}@',na=False)].nunique()\n",
    "    # Кол-во кириллицы до @yandex.ru, @mail.ru, @gmail.ru\n",
    "    kirillica_all = df[column][df[column].str.contains('^[А-Яа-я]{0,}@yandex.ru|^[А-Яа-я]{0,}@mail.ru|^[А-Яа-я]{0,}@gmail.ru',na=False)].count()\n",
    "    # Кол-во уникальных кириллицы до @yandex.ru, @mail.ru, @gmail.ru\n",
    "    kirillica_all_unique = df[column][df[column].str.contains('^[А-Яа-я]{0,}@yandex.ru|^[А-Яа-я]{0,}@mail.ru|^[А-Яа-я]{0,}@gmail.ru',na=False)].nunique()\n",
    "    # Кол-во не допустимых с доменов yandex.ru\n",
    "    yandex = df[column][df[column].str.contains('^[0-9]@yandex.ru',na=False)].count()\n",
    "    # Кол-во уникальных не допустимых с доменов yandex.ru\n",
    "    yandex_unic = df[column][df[column].str.contains('^[0-9]@yandex.ru',na=False)].nunique()\n",
    "    # Кол-во не допустимых с доменом mail.ru\n",
    "    mail = df[column][df[column].str.contains('^[\\w|\\W]{1,4}@mail.ru',na=False)].count()\n",
    "    # Кол-во уникальных не допустимых с доменов mail.ru\n",
    "    mail_unic = df[column][df[column].str.contains('^[\\w|\\W]{1,4}@mail.ru',na=False)].nunique()\n",
    "    # Кол-во не допустимых с доменов gmail.ru\n",
    "    gmail = df[column][df[column].str.contains('^[\\w|\\W]{1,6}@gmail.ru',na=False)].count()\n",
    "    # Кол-во уникальных не допустимых с доменов gmail.ru\n",
    "    gmail_unic = df[column][df[column].str.contains('^[\\w|\\W]{1,6}@gmail.ru',na=False)].nunique()\n",
    "    \n",
    "    \n",
    "    print(f\"Кол-во значений NaN: {len(df[column])-df[column].count()}\")\n",
    "    print(f\"Кол-во почт без знака '@'(без NaN) : {df[column][df[column].str.contains('^[^@]*$',na=False)].count()}\")\n",
    "    print(f\"Кол-во уникальных почт без знака '@' : {df[column][df[column].str.contains('^[^@]*$',na=False)].nunique()}\")\n",
    "    print(f\"Кол-во до двух знаков(символов) перед знаком '@' : {before_dot}\")\n",
    "    print(f\"Кол-во уникальных до двух знаков(символов) перед знаком '@' : {before_dot_unique}\")\n",
    "    print(f\"Кол-во кириллицы до знака '@' : {kirillica}\")\n",
    "    print(f\"Кол-во уникальных кириллицы до знака '@' : {kirillica_unique}\")\n",
    "    print(f\"Кол-во кириллицы до @yandex.ru, @mail.ru, @gmail.ru : {kirillica_all}\")\n",
    "    print(f\"Кол-во уникальных кириллицы до @yandex.ru, @mail.ru, @gmail.ru : {kirillica_all_unique}\")\n",
    "    print(f\"Кол-во не допустимых с доменом yandex.ru : {yandex}\")\n",
    "    print(f\"Кол-во уникальных не допустимых с доменом yandex.ru : {yandex_unic}\")\n",
    "    print(f\"Кол-во не допустимых с доменом mail.ru : {mail}\")\n",
    "    print(f\"Кол-во уникальных не допустимых с доменом mail.ru : {mail_unic}\")\n",
    "    print(f\"Кол-во не допустимых с доменом gmail.ru : {gmail}\")\n",
    "    print(f\"Кол-во уникальных не допустимых с доменом gmail.ru : {gmail_unic}\")\n",
    "    \n",
    "email_anomalies(df_1,col_15)"
   ]
  },
  {
   "cell_type": "code",
   "execution_count": 148,
   "metadata": {},
   "outputs": [
    {
     "name": "stdout",
     "output_type": "stream",
     "text": [
      "Кол-во значений NaN: 210699\n",
      "Кол-во значений с цифрами: 261051\n",
      "Кол-во уникальных значений с цифрами: 61145\n",
      "Кол-во тел. не соответствуют ^+ : 271607\n",
      "Кол-во уникальных не соответствуют ^+ : 63189\n",
      "Кол-во номеров с буквами : 4762\n",
      "Кол-во уникальных номеров с буквами : 3274\n",
      "Кол-во номеров с символами : 271592\n",
      "Кол-во уникальных с символами : 63179\n"
     ]
    }
   ],
   "source": [
    "def check_phones(df,column):\n",
    "    print(f\"Кол-во значений NaN: {len(df[column])-df[column].count()}\")\n",
    "    print(f\"Кол-во значений с цифрами: {df_1[column][df_1[column].str.contains('^[0-9]+',na=False)].count()}\")\n",
    "    print(f\"Кол-во уникальных значений с цифрами: {df_1[column][df_1[column].str.contains('^[0-9]+',na=False)].nunique()}\")\n",
    "    print(f\"Кол-во тел. не соответствуют ^+ : {df_1[column][df_1[column].str.contains('^[^+]',na=False)].count()}\")\n",
    "    print(f\"Кол-во уникальных не соответствуют ^+ : {df_1[column][df_1[column].str.contains('^[^+]',na=False)].nunique()}\")\n",
    "    print(f\"Кол-во номеров с буквами : {df_1[column][df_1[column].str.contains('[A-Za-zА-Яа-я]',na=False)].count()}\")\n",
    "    print(f\"Кол-во уникальных номеров с буквами : {df_1[column][df_1[column].str.contains('[A-Za-zА-Яа-я]',na=False)].nunique()}\")\n",
    "    print(f\"Кол-во номеров с символами : {df_1[column][df_1[column].str.contains('^[^+]*$',na=False)].count()}\")\n",
    "    print(f\"Кол-во уникальных с символами : {df_1[column][df_1[column].str.contains('^[^+]*$',na=False)].nunique()}\")\n",
    "    \n",
    "check_phones(df_1,col_14)"
   ]
  },
  {
   "cell_type": "code",
   "execution_count": null,
   "metadata": {},
   "outputs": [],
   "source": []
  },
  {
   "cell_type": "code",
   "execution_count": 146,
   "metadata": {},
   "outputs": [
    {
     "data": {
      "text/plain": [
       "61145"
      ]
     },
     "execution_count": 146,
     "metadata": {},
     "output_type": "execute_result"
    }
   ],
   "source": [
    "df_1[col_14][df_1[col_14].str.contains('^[^+]*$',na=False)].nunique()"
   ]
  },
  {
   "cell_type": "code",
   "execution_count": 5,
   "metadata": {},
   "outputs": [],
   "source": [
    "# выводим все кроме \"@\" в колонке\n",
    "df_1['EmailЛичный'][df_1['EmailЛичный'].str.contains('^[^@]*$',na=False)]"
   ]
  },
  {
   "cell_type": "code",
   "execution_count": 6,
   "metadata": {},
   "outputs": [],
   "source": [
    "df_1[col_0].unique()"
   ]
  },
  {
   "cell_type": "markdown",
   "metadata": {},
   "source": [
    "### Комплекс"
   ]
  },
  {
   "cell_type": "markdown",
   "metadata": {},
   "source": [
    "Вывод: Всего 9 найменований (без цифр), нет пропущенных данных"
   ]
  },
  {
   "cell_type": "code",
   "execution_count": 69,
   "metadata": {},
   "outputs": [
    {
     "name": "stdout",
     "output_type": "stream",
     "text": [
      "Кол-во значений: 512750\n",
      "Кол-во пропущенных значений: 0\n",
      "Кол-во значений пробелы в начале строки: 0\n",
      "Кол-во значений пробелы в конце строки: 0\n"
     ]
    }
   ],
   "source": [
    "# показывает количество значений в колонке\n",
    "df_1[\"Комплекс\"].count()\n",
    "# показывает NaN(количество пропущенных значений) по колонкам\n",
    "len(df_1[\"Комплекс\"])-df_1[\"Комплекс\"].count()\n",
    "# выводим пробелы в начале строки \n",
    "df_1_1 = df_1[\"Комплекс\"][df_1['Комплекс'].str.contains('^ ',na=False)].count()\n",
    "df_1_2 = df_1[\"Комплекс\"][df_1['Комплекс'].str.contains(' $',na=False)].count()\n",
    "\n",
    "print(f'Кол-во значений: {df_1[\"Комплекс\"].count()}')\n",
    "print(f'Кол-во пропущенных значений: {len(df_1[\"Комплекс\"])-df_1[\"Комплекс\"].count()}')\n",
    "print(f'Кол-во значений пробелы в начале строки: {df_1_1}')\n",
    "print(f'Кол-во значений пробелы в конце строки: {df_1_2}')"
   ]
  },
  {
   "cell_type": "code",
   "execution_count": 63,
   "metadata": {},
   "outputs": [
    {
     "name": "stdout",
     "output_type": "stream",
     "text": [
      "Кол-во значений в колонке: 512750\n",
      "Кол-во уникальных значений: 9\n",
      "Кол-во значений NaN: 0\n",
      "Кол-во значений ^ пробелы: 0\n",
      "Кол-во значений уникальных ^ пробелы: 0\n",
      "Кол-во значений пробелы в конце строки: 0\n",
      "Кол-во значений уникальных ^ пробелы: 0\n"
     ]
    }
   ],
   "source": [
    "looking_for_anomalies(df_1,col_0)"
   ]
  },
  {
   "cell_type": "code",
   "execution_count": 160,
   "metadata": {},
   "outputs": [
    {
     "data": {
      "text/plain": [
       "0    0\n",
       "dtype: int64"
      ]
     },
     "execution_count": 160,
     "metadata": {},
     "output_type": "execute_result"
    }
   ],
   "source": [
    "# выводим только цифры в колонке \n",
    "df_1[\"Комплекс\"].str.extract(r\"(\\d+\\.\\d+|\\d+)\").count()"
   ]
  },
  {
   "cell_type": "code",
   "execution_count": 161,
   "metadata": {},
   "outputs": [
    {
     "data": {
      "text/plain": [
       "array([], dtype=object)"
      ]
     },
     "execution_count": 161,
     "metadata": {},
     "output_type": "execute_result"
    }
   ],
   "source": [
    "# выводим любые цифры в колонке\n",
    "df_1['Комплекс'][df_1['Комплекс'].str.contains('[0-9]',na=False)].unique()"
   ]
  },
  {
   "cell_type": "code",
   "execution_count": 162,
   "metadata": {},
   "outputs": [
    {
     "data": {
      "text/plain": [
       "0"
      ]
     },
     "execution_count": 162,
     "metadata": {},
     "output_type": "execute_result"
    }
   ],
   "source": [
    "# выводим любые цифры в колонке\n",
    "df_1['Комплекс'][df_1['Комплекс'].str.contains('[0-9]+',na=False)].count()"
   ]
  },
  {
   "cell_type": "code",
   "execution_count": 7,
   "metadata": {},
   "outputs": [],
   "source": [
    "# выводим любые строчные в колонке\n",
    "df_1['Комплекс'][df_1['Комплекс'].str.contains('[^0-9A-Za-zА-Яа-я]',na=False)].unique()"
   ]
  },
  {
   "cell_type": "markdown",
   "metadata": {},
   "source": [
    "### ОИВ"
   ]
  },
  {
   "cell_type": "code",
   "execution_count": 49,
   "metadata": {},
   "outputs": [
    {
     "data": {
      "text/plain": [
       "0    0\n",
       "dtype: int64"
      ]
     },
     "execution_count": 49,
     "metadata": {},
     "output_type": "execute_result"
    }
   ],
   "source": [
    "# выводим любые цифры в колонке\n",
    "df_1[\"ОИВ\"].str.extract(r\"(\\d+\\.\\d+|\\d+)\").count()"
   ]
  },
  {
   "cell_type": "code",
   "execution_count": 22,
   "metadata": {},
   "outputs": [
    {
     "data": {
      "text/plain": [
       "0"
      ]
     },
     "execution_count": 22,
     "metadata": {},
     "output_type": "execute_result"
    }
   ],
   "source": [
    "# выводим любые цифры в колонке\n",
    "df_1['ОИВ'][df_1['ОИВ'].str.contains('[0-9]+',na=False)].count()"
   ]
  },
  {
   "cell_type": "code",
   "execution_count": 152,
   "metadata": {},
   "outputs": [
    {
     "data": {
      "text/plain": [
       "52"
      ]
     },
     "execution_count": 152,
     "metadata": {},
     "output_type": "execute_result"
    }
   ],
   "source": [
    "# выводим все кроме цифр в колонке\n",
    "df_1['ОИВ'][df_1['ОИВ'].str.contains('[^0-9]+',na=False)].nunique()"
   ]
  },
  {
   "cell_type": "code",
   "execution_count": 8,
   "metadata": {},
   "outputs": [],
   "source": [
    "# выводим все кроме цифр в колонке\n",
    "df_1['ОИВ'][df_1['ОИВ'].str.contains('[^0-9]+',na=False)].head(500).unique()"
   ]
  },
  {
   "cell_type": "markdown",
   "metadata": {},
   "source": [
    "### Организация"
   ]
  },
  {
   "cell_type": "code",
   "execution_count": 190,
   "metadata": {},
   "outputs": [
    {
     "data": {
      "text/plain": [
       "0"
      ]
     },
     "execution_count": 190,
     "metadata": {},
     "output_type": "execute_result"
    }
   ],
   "source": [
    "# показывает NaN(количество пропущенных значений) по колонкам\n",
    "len(df_1[\"Организация\"])-df_1[\"Организация\"].count() "
   ]
  },
  {
   "cell_type": "code",
   "execution_count": 38,
   "metadata": {},
   "outputs": [
    {
     "data": {
      "text/plain": [
       "0    531\n",
       "dtype: int64"
      ]
     },
     "execution_count": 38,
     "metadata": {},
     "output_type": "execute_result"
    }
   ],
   "source": [
    "# выводим любые цифры в колонке\n",
    "df_1[\"Организация\"].str.extract(r\"(\\d+\\.\\d+|\\d+)\").nunique()"
   ]
  },
  {
   "cell_type": "code",
   "execution_count": 172,
   "metadata": {},
   "outputs": [
    {
     "data": {
      "text/plain": [
       "array([], dtype=object)"
      ]
     },
     "execution_count": 172,
     "metadata": {},
     "output_type": "execute_result"
    }
   ],
   "source": [
    "# выводим любые строчные в колонке\n",
    "df_1['Организация'][df_1['Организация'].str.contains('^[^0-9A-Za-zА-Яа-я]$',na=False)].unique()"
   ]
  },
  {
   "cell_type": "code",
   "execution_count": 36,
   "metadata": {},
   "outputs": [
    {
     "data": {
      "text/plain": [
       "529"
      ]
     },
     "execution_count": 36,
     "metadata": {},
     "output_type": "execute_result"
    }
   ],
   "source": [
    "# выводим цифры в колонке\n",
    "df_1['Организация'][df_1[\"Организация\"].str.match(r\"(\\d+\\.\\d+|\\d+)\")].count()"
   ]
  },
  {
   "cell_type": "code",
   "execution_count": 177,
   "metadata": {},
   "outputs": [
    {
     "data": {
      "text/plain": [
       "612"
      ]
     },
     "execution_count": 177,
     "metadata": {},
     "output_type": "execute_result"
    }
   ],
   "source": [
    "# выводим все кроме цифр в колонке\n",
    "df_1['Организация'][df_1['Организация'].str.contains('[0-9]+',na=False)].nunique()"
   ]
  },
  {
   "cell_type": "code",
   "execution_count": 40,
   "metadata": {},
   "outputs": [
    {
     "data": {
      "text/plain": [
       "612"
      ]
     },
     "execution_count": 40,
     "metadata": {},
     "output_type": "execute_result"
    }
   ],
   "source": [
    "# выводим любые цифры в колонке + кол-во уникальных строк\n",
    "df_1['Организация'][df_1['Организация'].str.contains('\\\\d', regex=True)].nunique()"
   ]
  },
  {
   "cell_type": "code",
   "execution_count": 45,
   "metadata": {
    "scrolled": true
   },
   "outputs": [
    {
     "data": {
      "text/plain": [
       "array(['2016 ГБУ ЦССВ «Наш дом»'], dtype=object)"
      ]
     },
     "execution_count": 45,
     "metadata": {},
     "output_type": "execute_result"
    }
   ],
   "source": [
    "df_1['Организация'][df_1['Организация'].str.match(r'(\\d+\\.\\d+|\\d+)')].head().unique()"
   ]
  },
  {
   "cell_type": "code",
   "execution_count": 9,
   "metadata": {},
   "outputs": [],
   "source": [
    "# поиск данных по принципу like в SQL\n",
    "df_1['Организация'][df_1['Организация'].str.startswith('ГБУ «СШОР № 21»', na=False)].head()"
   ]
  },
  {
   "cell_type": "code",
   "execution_count": 10,
   "metadata": {},
   "outputs": [],
   "source": [
    "# поиск данных по принципу like в SQL\n",
    "df_1['Организация'][df_1['Организация'].str.contains('21»', na=False)].head()"
   ]
  },
  {
   "cell_type": "code",
   "execution_count": 11,
   "metadata": {},
   "outputs": [],
   "source": [
    "df_1.loc[(df_1['Организация'] == 'ГБУ «СШОР № 21» Москомспорта')].count()"
   ]
  },
  {
   "cell_type": "markdown",
   "metadata": {},
   "source": [
    "### ИННорг"
   ]
  },
  {
   "cell_type": "code",
   "execution_count": 191,
   "metadata": {},
   "outputs": [
    {
     "data": {
      "text/plain": [
       "0"
      ]
     },
     "execution_count": 191,
     "metadata": {},
     "output_type": "execute_result"
    }
   ],
   "source": [
    "# показывает NaN(количество пропущенных значений) по колонкам\n",
    "len(df_1[\"ИННорг\"])-df_1[\"ИННорг\"].count() "
   ]
  },
  {
   "cell_type": "code",
   "execution_count": 172,
   "metadata": {},
   "outputs": [
    {
     "data": {
      "text/plain": [
       "dtype('int64')"
      ]
     },
     "execution_count": 172,
     "metadata": {},
     "output_type": "execute_result"
    }
   ],
   "source": [
    "# выводим тип колонки \n",
    "df_1['ИННорг'].dtypes"
   ]
  },
  {
   "cell_type": "code",
   "execution_count": 171,
   "metadata": {},
   "outputs": [
    {
     "data": {
      "text/plain": [
       "512750"
      ]
     },
     "execution_count": 171,
     "metadata": {},
     "output_type": "execute_result"
    }
   ],
   "source": [
    "# выводим кол-во строк\n",
    "df_1['ИННорг'].count()"
   ]
  },
  {
   "cell_type": "code",
   "execution_count": 170,
   "metadata": {},
   "outputs": [
    {
     "data": {
      "text/plain": [
       "1577"
      ]
     },
     "execution_count": 170,
     "metadata": {},
     "output_type": "execute_result"
    }
   ],
   "source": [
    "# выводим кол-во уникальных строк\n",
    "df_1['ИННорг'].nunique()"
   ]
  },
  {
   "cell_type": "code",
   "execution_count": 12,
   "metadata": {},
   "outputs": [],
   "source": [
    "df_1['ИННорг'].head(3)"
   ]
  },
  {
   "cell_type": "markdown",
   "metadata": {},
   "source": [
    "### ФИО"
   ]
  },
  {
   "cell_type": "code",
   "execution_count": 106,
   "metadata": {},
   "outputs": [
    {
     "data": {
      "text/plain": [
       "0    116\n",
       "dtype: int64"
      ]
     },
     "execution_count": 106,
     "metadata": {},
     "output_type": "execute_result"
    }
   ],
   "source": [
    "# выводим любые цифры в колонке\n",
    "# df_1[\"ФИО\"].str.extract(r\"(\\d+\\.\\d+|\\d+)\").count()"
   ]
  },
  {
   "cell_type": "code",
   "execution_count": 109,
   "metadata": {},
   "outputs": [
    {
     "data": {
      "text/plain": [
       "1"
      ]
     },
     "execution_count": 109,
     "metadata": {},
     "output_type": "execute_result"
    }
   ],
   "source": [
    "# показывает NaN(количество пропущенных значений)\n",
    "len(df_1['ФИО'])-df_1['ФИО'].count() "
   ]
  },
  {
   "cell_type": "code",
   "execution_count": 110,
   "metadata": {},
   "outputs": [
    {
     "data": {
      "text/plain": [
       "116"
      ]
     },
     "execution_count": 110,
     "metadata": {},
     "output_type": "execute_result"
    }
   ],
   "source": [
    "# выводим любые цифры в колонке\n",
    "df_1['ФИО'][df_1['ФИО'].str.contains('[0-9]+',na=False)].count()"
   ]
  },
  {
   "cell_type": "code",
   "execution_count": 112,
   "metadata": {},
   "outputs": [
    {
     "data": {
      "text/plain": [
       "110"
      ]
     },
     "execution_count": 112,
     "metadata": {},
     "output_type": "execute_result"
    }
   ],
   "source": [
    "# выводим любые цифры в колонке\n",
    "df_1['ФИО'][df_1['ФИО'].str.contains('[0-9]+',na=False)].nunique()"
   ]
  },
  {
   "cell_type": "code",
   "execution_count": 15,
   "metadata": {},
   "outputs": [],
   "source": [
    "# выводим любые цифры в колонке\n",
    "df_1['ФИО'][df_1['ФИО'].str.contains('^ ',na=False, regex=True)]"
   ]
  },
  {
   "cell_type": "code",
   "execution_count": 197,
   "metadata": {},
   "outputs": [
    {
     "data": {
      "text/plain": [
       "78"
      ]
     },
     "execution_count": 197,
     "metadata": {},
     "output_type": "execute_result"
    }
   ],
   "source": [
    "# выводим любые цифры в колонке\n",
    "df_1['ФИО'][df_1['ФИО'].str.contains('[0-9][^A-Za-zА-Яа-я]',na=False, regex=True)].nunique()"
   ]
  },
  {
   "cell_type": "code",
   "execution_count": 16,
   "metadata": {},
   "outputs": [],
   "source": [
    "# выводим любые цифры в колонке\n",
    "df_1['ФИО'][df_1['ФИО'].str.contains('[0-9][^A-Za-zА-Яа-я]',na=False, regex=True)]"
   ]
  },
  {
   "cell_type": "markdown",
   "metadata": {},
   "source": [
    "### СНИЛС"
   ]
  },
  {
   "cell_type": "code",
   "execution_count": 198,
   "metadata": {},
   "outputs": [
    {
     "data": {
      "text/plain": [
       "609"
      ]
     },
     "execution_count": 198,
     "metadata": {},
     "output_type": "execute_result"
    }
   ],
   "source": [
    "# показывает NaN(количество пропущенных значений)\n",
    "len(df_1['СНИЛС'])-df_1['СНИЛС'].count() "
   ]
  },
  {
   "cell_type": "code",
   "execution_count": 70,
   "metadata": {},
   "outputs": [
    {
     "data": {
      "text/plain": [
       "0"
      ]
     },
     "execution_count": 70,
     "metadata": {},
     "output_type": "execute_result"
    }
   ],
   "source": [
    "# выводим любые строчные в колонке\n",
    "df_1['СНИЛС'][df_1['СНИЛС'].str.contains('[A-Za-zА-Яа-я]',na=False)].count()"
   ]
  },
  {
   "cell_type": "code",
   "execution_count": 71,
   "metadata": {},
   "outputs": [
    {
     "data": {
      "text/plain": [
       "512139"
      ]
     },
     "execution_count": 71,
     "metadata": {},
     "output_type": "execute_result"
    }
   ],
   "source": [
    "# выводим любые цифры в колонке\n",
    "df_1['СНИЛС'][df_1['СНИЛС'].str.contains('[0-9]+',na=False)].count()"
   ]
  },
  {
   "cell_type": "code",
   "execution_count": 72,
   "metadata": {},
   "outputs": [
    {
     "data": {
      "text/plain": [
       "609"
      ]
     },
     "execution_count": 72,
     "metadata": {},
     "output_type": "execute_result"
    }
   ],
   "source": [
    "# показывает NaN(количество пропущенных значений)\n",
    "len(df_1['СНИЛС'])-df_1['СНИЛС'].count() "
   ]
  },
  {
   "cell_type": "code",
   "execution_count": 75,
   "metadata": {},
   "outputs": [
    {
     "data": {
      "text/plain": [
       "512141"
      ]
     },
     "execution_count": 75,
     "metadata": {},
     "output_type": "execute_result"
    }
   ],
   "source": [
    "df_1['СНИЛС'].count()"
   ]
  },
  {
   "cell_type": "code",
   "execution_count": 145,
   "metadata": {},
   "outputs": [
    {
     "data": {
      "text/plain": [
       "65676        -   -      \n",
       "269182             -   -\n",
       "Name: СНИЛС, dtype: object"
      ]
     },
     "execution_count": 145,
     "metadata": {},
     "output_type": "execute_result"
    }
   ],
   "source": [
    "# выводим любые символы в колонке\n",
    "df_1['СНИЛС'][df_1['СНИЛС'].str.contains('^[^0-9][^A-Za-zА-Яа-я]*$', na=False)].head(3)"
   ]
  },
  {
   "cell_type": "code",
   "execution_count": 97,
   "metadata": {},
   "outputs": [
    {
     "data": {
      "text/plain": [
       "65676        -   -      \n",
       "269182             -   -\n",
       "Name: СНИЛС, dtype: object"
      ]
     },
     "execution_count": 97,
     "metadata": {},
     "output_type": "execute_result"
    }
   ],
   "source": [
    "# поиск данных по принципу like в SQL\n",
    "df_1['СНИЛС'][df_1['СНИЛС'].str.contains('[^0-9][- -]{2}', na=False)].head(3)"
   ]
  },
  {
   "cell_type": "markdown",
   "metadata": {},
   "source": [
    "### ДР"
   ]
  },
  {
   "cell_type": "code",
   "execution_count": 199,
   "metadata": {},
   "outputs": [
    {
     "data": {
      "text/plain": [
       "16"
      ]
     },
     "execution_count": 199,
     "metadata": {},
     "output_type": "execute_result"
    }
   ],
   "source": [
    "# показывает NaN(количество пропущенных значений)\n",
    "len(df_1['ДР'])-df_1['ДР'].count() "
   ]
  },
  {
   "cell_type": "code",
   "execution_count": 151,
   "metadata": {
    "scrolled": true
   },
   "outputs": [
    {
     "data": {
      "text/plain": [
       "0    512734\n",
       "dtype: int64"
      ]
     },
     "execution_count": 151,
     "metadata": {},
     "output_type": "execute_result"
    }
   ],
   "source": [
    "# выводим любые цифры в колонке\n",
    "# df_1[\"ДР\"].str.extract(r\"(\\d+\\.\\d+|\\d+)\").count()"
   ]
  },
  {
   "cell_type": "code",
   "execution_count": 149,
   "metadata": {},
   "outputs": [
    {
     "data": {
      "text/plain": [
       "512734"
      ]
     },
     "execution_count": 149,
     "metadata": {},
     "output_type": "execute_result"
    }
   ],
   "source": [
    "# выводим любые цифры в колонке\n",
    "df_1['ДР'][df_1['ДР'].str.contains('[0-9]+',na=False)].count()"
   ]
  },
  {
   "cell_type": "code",
   "execution_count": 125,
   "metadata": {},
   "outputs": [
    {
     "data": {
      "text/plain": [
       "22252"
      ]
     },
     "execution_count": 125,
     "metadata": {},
     "output_type": "execute_result"
    }
   ],
   "source": [
    "# выводим любые цифры в колонке уникальных строк\n",
    "df_1['ДР'][df_1['ДР'].str.contains('[0-9]+',na=False)].nunique()"
   ]
  },
  {
   "cell_type": "code",
   "execution_count": 189,
   "metadata": {},
   "outputs": [
    {
     "data": {
      "text/plain": [
       "0"
      ]
     },
     "execution_count": 189,
     "metadata": {},
     "output_type": "execute_result"
    }
   ],
   "source": [
    "# выводим любые строчные в колонке\n",
    "df_1['ДР'][df_1['ДР'].str.contains('[A-Za-zА-Яа-я]',na=False)].count()"
   ]
  },
  {
   "cell_type": "code",
   "execution_count": 151,
   "metadata": {},
   "outputs": [
    {
     "data": {
      "text/plain": [
       "0"
      ]
     },
     "execution_count": 151,
     "metadata": {},
     "output_type": "execute_result"
    }
   ],
   "source": [
    "# выводим любые символы в колонке\n",
    "df_1['ДР'][df_1['ДР'].str.contains('^[^0-9][^A-Za-zА-Яа-я]*$', na=False)].count()"
   ]
  },
  {
   "cell_type": "markdown",
   "metadata": {},
   "source": [
    "Изменить пустые значения на строчные для лучшего поиска?"
   ]
  },
  {
   "cell_type": "code",
   "execution_count": 17,
   "metadata": {},
   "outputs": [],
   "source": [
    "# выводим nan\n",
    "df_1[df_1['ДР'].isnull()].head(2)"
   ]
  },
  {
   "cell_type": "code",
   "execution_count": 150,
   "metadata": {},
   "outputs": [
    {
     "data": {
      "text/plain": [
       "273289    NaN\n",
       "273442    NaN\n",
       "273443    NaN\n",
       "273581    NaN\n",
       "277632    NaN\n",
       "Name: ДР, dtype: object"
      ]
     },
     "execution_count": 150,
     "metadata": {},
     "output_type": "execute_result"
    }
   ],
   "source": [
    "# выводим nan\n",
    "df_1['ДР'].loc[df_1['ДР'].isnull()].head(5)"
   ]
  },
  {
   "cell_type": "markdown",
   "metadata": {},
   "source": [
    "### Должность"
   ]
  },
  {
   "cell_type": "markdown",
   "metadata": {},
   "source": [
    "# <font color=\"red\">!!!!!!!</font>"
   ]
  },
  {
   "cell_type": "code",
   "execution_count": 175,
   "metadata": {},
   "outputs": [
    {
     "data": {
      "text/plain": [
       "27228"
      ]
     },
     "execution_count": 175,
     "metadata": {},
     "output_type": "execute_result"
    }
   ],
   "source": [
    "# выводим любые цифры в колонке\n",
    "df_1['Должность'][df_1['Должность'].str.contains('[0-9]+',na=False)].count()"
   ]
  },
  {
   "cell_type": "code",
   "execution_count": 185,
   "metadata": {},
   "outputs": [
    {
     "data": {
      "text/plain": [
       "2102"
      ]
     },
     "execution_count": 185,
     "metadata": {},
     "output_type": "execute_result"
    }
   ],
   "source": [
    "# выводим любые цифры в колонке уникальных строк\n",
    "df_1['Должность'][df_1['Должность'].str.contains('[0-9]+',na=False)].nunique()"
   ]
  },
  {
   "cell_type": "code",
   "execution_count": 191,
   "metadata": {},
   "outputs": [
    {
     "data": {
      "text/plain": [
       "11672"
      ]
     },
     "execution_count": 191,
     "metadata": {},
     "output_type": "execute_result"
    }
   ],
   "source": [
    "# выводим любые знаки и строчные кроме цифр в колонке уникальных строк\n",
    "df_1['Должность'][df_1['Должность'].str.contains('[^0-9]+',na=False)].nunique()"
   ]
  },
  {
   "cell_type": "code",
   "execution_count": 129,
   "metadata": {},
   "outputs": [
    {
     "data": {
      "text/plain": [
       "0       Преподаватель\n",
       "1    Начальник отдела\n",
       "2               повар\n",
       "3       Преподаватель\n",
       "4       Преподаватель\n",
       "Name: Должность, dtype: object"
      ]
     },
     "execution_count": 129,
     "metadata": {},
     "output_type": "execute_result"
    }
   ],
   "source": [
    "# выводим любые знаки и строчные кроме цифр в колонке \n",
    "df_1['Должность'][df_1['Должность'].str.contains('[^0-9]+',na=False)].head()"
   ]
  },
  {
   "cell_type": "code",
   "execution_count": 195,
   "metadata": {},
   "outputs": [
    {
     "data": {
      "text/plain": [
       "37"
      ]
     },
     "execution_count": 195,
     "metadata": {},
     "output_type": "execute_result"
    }
   ],
   "source": [
    "# Выводим похожие совпадения на \"повар\"\n",
    "df_1['Должность'][(df_1['Должность'].str.contains('повар',na=False,case=False))].nunique()"
   ]
  },
  {
   "cell_type": "code",
   "execution_count": 194,
   "metadata": {},
   "outputs": [
    {
     "data": {
      "text/plain": [
       "array(['повар', 'Шеф-повар', 'Повар', 'Шеф повар', 'Повар-кондитер',\n",
       "       'Повар 4разряд', 'повар (4 разряд)', 'Повар 5р', 'Повар 4 разряда',\n",
       "       'Повар, 5 разряда', 'Повар, 4 разряда', 'Повар 5 разряд',\n",
       "       'Повар 5 разряда', 'шеф-повар', 'Повар (5 разряд)',\n",
       "       'Повар (4 разряд)', 'Шеф-повар (1 категория)', 'Повар 6 разряда',\n",
       "       'Повар 3 разряда', 'Повар детского питания', 'повар 5разряда',\n",
       "       'Повар 4 разряд', 'Повар.', 'помощник повара', 'Повар 6 р',\n",
       "       'повар 4 разряда', 'Заведующий производством (шеф-повар)',\n",
       "       'Повар детского питания 4 разряда', 'Помощник воспитателя (повар)',\n",
       "       'Повар (6 р)', 'Повар (5 р)',\n",
       "       'Заведующий производством (Шеф-повар)', 'Повар 4 р.', 'Повар 5 р.',\n",
       "       'Повар 6  разряда', 'Шеф - повар', 'Повар 4 разряда ЕТКС'],\n",
       "      dtype=object)"
      ]
     },
     "execution_count": 194,
     "metadata": {},
     "output_type": "execute_result"
    }
   ],
   "source": [
    "# Выводим похожие совпадения на \"повар\"\n",
    "# ilike=str.contains('повар',na=False,case=False) где case=False не важен регистр\n",
    "df_1['Должность'][(df_1['Должность'].str.contains('повар',na=False,case=False))].unique()"
   ]
  },
  {
   "cell_type": "code",
   "execution_count": 211,
   "metadata": {},
   "outputs": [
    {
     "data": {
      "text/plain": [
       "87826                   .Врач-терапевт\n",
       "87953                   .Врач-терапевт\n",
       "263624    (Вне/бюд)преподаватель В кат\n",
       "263630    (Вн/бюд) преподаватель 1 кат\n",
       "263632    (Вне/бюд)преподаватель В кат\n",
       "Name: Должность, dtype: object"
      ]
     },
     "execution_count": 211,
     "metadata": {},
     "output_type": "execute_result"
    }
   ],
   "source": [
    "# выводим все символы кроме \n",
    "df_1['Должность'][df_1['Должность'].str.contains('^[^0-9A-Za-zА-Яа-я -]',na=False)].head()"
   ]
  },
  {
   "cell_type": "code",
   "execution_count": 212,
   "metadata": {},
   "outputs": [
    {
     "data": {
      "text/plain": [
       "293            Преподаватель (соответствие)\n",
       "343            Преподаватель (соответствие)\n",
       "350    Специалист по кадрам (без категории)\n",
       "364            Библиотекарь (без категории)\n",
       "625                            Доцент, к.н.\n",
       "Name: Должность, dtype: object"
      ]
     },
     "execution_count": 212,
     "metadata": {},
     "output_type": "execute_result"
    }
   ],
   "source": [
    "# выводим все символы кроме \n",
    "df_1['Должность'][df_1['Должность'].str.contains('[^0-9A-Za-zА-Яа-я -]',na=False)].head()"
   ]
  },
  {
   "cell_type": "code",
   "execution_count": 228,
   "metadata": {},
   "outputs": [
    {
     "data": {
      "text/plain": [
       "293                            Преподаватель (соответствие)\n",
       "343                            Преподаватель (соответствие)\n",
       "350                    Специалист по кадрам (без категории)\n",
       "364                            Библиотекарь (без категории)\n",
       "625                                            Доцент, к.н.\n",
       "                                ...                        \n",
       "512607    Заместитель директора по социализации, воспита...\n",
       "512615                                 Специалист (питание)\n",
       "512718                          Специалист (комплектование)\n",
       "512728                                 Специалист (питание)\n",
       "512731                                 Специалист (питание)\n",
       "Name: Должность, Length: 17700, dtype: object"
      ]
     },
     "execution_count": 228,
     "metadata": {},
     "output_type": "execute_result"
    }
   ],
   "source": [
    "df_1['Должность'][df_1['Должность'].str.contains('[.,()]',na=False,regex=True)]"
   ]
  },
  {
   "cell_type": "markdown",
   "metadata": {},
   "source": [
    "### ВидЗанятости"
   ]
  },
  {
   "cell_type": "code",
   "execution_count": 193,
   "metadata": {},
   "outputs": [
    {
     "data": {
      "text/plain": [
       "0"
      ]
     },
     "execution_count": 193,
     "metadata": {},
     "output_type": "execute_result"
    }
   ],
   "source": [
    "# выводим любые цифры в колонке\n",
    "df_1['ВидЗанятости'][df_1['ВидЗанятости'].str.contains('[0-9]+',na=False)].count()"
   ]
  },
  {
   "cell_type": "code",
   "execution_count": 265,
   "metadata": {},
   "outputs": [
    {
     "data": {
      "text/plain": [
       "512709"
      ]
     },
     "execution_count": 265,
     "metadata": {},
     "output_type": "execute_result"
    }
   ],
   "source": [
    "# выводим любые строчные в колонке\n",
    "df_1['ВидЗанятости'][df_1['ВидЗанятости'].str.contains('[A-Za-zА-Яа-я]'D)].count()"
   ]
  },
  {
   "cell_type": "code",
   "execution_count": 201,
   "metadata": {},
   "outputs": [
    {
     "data": {
      "text/plain": [
       "array(['Основное место работы', 'Внешнее совместительство',\n",
       "       'Внутреннее совместительство', nan, 'Подработка'], dtype=object)"
      ]
     },
     "execution_count": 201,
     "metadata": {},
     "output_type": "execute_result"
    }
   ],
   "source": [
    "df_1['ВидЗанятости'].unique()"
   ]
  },
  {
   "cell_type": "code",
   "execution_count": 269,
   "metadata": {},
   "outputs": [
    {
     "data": {
      "text/plain": [
       "4"
      ]
     },
     "execution_count": 269,
     "metadata": {},
     "output_type": "execute_result"
    }
   ],
   "source": [
    "df_1['ВидЗанятости'].nunique()"
   ]
  },
  {
   "cell_type": "code",
   "execution_count": 18,
   "metadata": {},
   "outputs": [],
   "source": [
    "# выводим nan\n",
    "df_1[df_1['ВидЗанятости'].isnull()].head(2)"
   ]
  },
  {
   "cell_type": "code",
   "execution_count": 242,
   "metadata": {},
   "outputs": [
    {
     "data": {
      "text/plain": [
       "41"
      ]
     },
     "execution_count": 242,
     "metadata": {},
     "output_type": "execute_result"
    }
   ],
   "source": [
    "# показывает NaN(количество пропущенных значений)\n",
    "len(df_1['ВидЗанятости'])-df_1['ВидЗанятости'].count() "
   ]
  },
  {
   "cell_type": "code",
   "execution_count": 232,
   "metadata": {},
   "outputs": [
    {
     "data": {
      "text/plain": [
       "44423     NaN\n",
       "207282    NaN\n",
       "207284    NaN\n",
       "267077    NaN\n",
       "267087    NaN\n",
       "Name: ВидЗанятости, dtype: object"
      ]
     },
     "execution_count": 232,
     "metadata": {},
     "output_type": "execute_result"
    }
   ],
   "source": [
    "# выводим nan\n",
    "df_1['ВидЗанятости'].loc[df_1['ВидЗанятости'].isnull()].head(5)"
   ]
  },
  {
   "cell_type": "markdown",
   "metadata": {},
   "source": [
    "### ТипДУЛ"
   ]
  },
  {
   "cell_type": "code",
   "execution_count": 205,
   "metadata": {},
   "outputs": [
    {
     "data": {
      "text/plain": [
       "523"
      ]
     },
     "execution_count": 205,
     "metadata": {},
     "output_type": "execute_result"
    }
   ],
   "source": [
    "# выводим любые цифры в колонке\n",
    "df_1['ТипДУЛ'][df_1['ТипДУЛ'].str.contains('[0-9]+',na=False)].count()"
   ]
  },
  {
   "cell_type": "code",
   "execution_count": 272,
   "metadata": {},
   "outputs": [
    {
     "data": {
      "text/plain": [
       "array(['Паспорт гражданина РФ образца 1997 г.'], dtype=object)"
      ]
     },
     "execution_count": 272,
     "metadata": {},
     "output_type": "execute_result"
    }
   ],
   "source": [
    "# выводим любые цифры в колонке\n",
    "df_1['ТипДУЛ'][df_1['ТипДУЛ'].str.contains('[0-9]+',na=False)].unique()"
   ]
  },
  {
   "cell_type": "code",
   "execution_count": 217,
   "metadata": {},
   "outputs": [
    {
     "data": {
      "text/plain": [
       "1"
      ]
     },
     "execution_count": 217,
     "metadata": {},
     "output_type": "execute_result"
    }
   ],
   "source": [
    "# выводим любые цифры в колонке\n",
    "df_1['ТипДУЛ'][df_1['ТипДУЛ'].str.contains('[0-9]+',na=False)].nunique()"
   ]
  },
  {
   "cell_type": "code",
   "execution_count": 202,
   "metadata": {},
   "outputs": [
    {
     "data": {
      "text/plain": [
       "334264    Паспорт гражданина РФ образца 1997 г.\n",
       "334265    Паспорт гражданина РФ образца 1997 г.\n",
       "334266    Паспорт гражданина РФ образца 1997 г.\n",
       "Name: ТипДУЛ, dtype: object"
      ]
     },
     "execution_count": 202,
     "metadata": {},
     "output_type": "execute_result"
    }
   ],
   "source": [
    "# выводим любые цифры в колонке\n",
    "df_1['ТипДУЛ'][df_1['ТипДУЛ'].str.contains('[0-9]+',na=False)].head(3)"
   ]
  },
  {
   "cell_type": "code",
   "execution_count": 244,
   "metadata": {},
   "outputs": [
    {
     "data": {
      "text/plain": [
       "35"
      ]
     },
     "execution_count": 244,
     "metadata": {},
     "output_type": "execute_result"
    }
   ],
   "source": [
    "# выводим все кроме цифр в колонке\n",
    "df_1['ТипДУЛ'][df_1['ТипДУЛ'].str.contains('[^0-9]+',na=False)].nunique()"
   ]
  },
  {
   "cell_type": "code",
   "execution_count": 245,
   "metadata": {},
   "outputs": [
    {
     "data": {
      "text/plain": [
       "35"
      ]
     },
     "execution_count": 245,
     "metadata": {},
     "output_type": "execute_result"
    }
   ],
   "source": [
    "# выводим любые строчные в колонке\n",
    "df_1['ТипДУЛ'][df_1['ТипДУЛ'].str.contains('[A-Za-zА-Яа-я]+',na=False)].nunique()"
   ]
  },
  {
   "cell_type": "code",
   "execution_count": 203,
   "metadata": {},
   "outputs": [
    {
     "data": {
      "text/plain": [
       "0    Паспорт гражданина Российской Федерации\n",
       "1                        Иностранный паспорт\n",
       "2                        Иностранный паспорт\n",
       "3    Паспорт гражданина Российской Федерации\n",
       "4    Паспорт гражданина Российской Федерации\n",
       "Name: ТипДУЛ, dtype: object"
      ]
     },
     "execution_count": 203,
     "metadata": {},
     "output_type": "execute_result"
    }
   ],
   "source": [
    "df_1['ТипДУЛ'][df_1['ТипДУЛ'].str.contains('[A-Za-zА-Яа-я]+',na=False)].head()"
   ]
  },
  {
   "cell_type": "code",
   "execution_count": 246,
   "metadata": {},
   "outputs": [
    {
     "data": {
      "text/plain": [
       "512210"
      ]
     },
     "execution_count": 246,
     "metadata": {},
     "output_type": "execute_result"
    }
   ],
   "source": [
    "# выводим любые строчные в колонке\n",
    "df_1['ТипДУЛ'][df_1['ТипДУЛ'].str.contains('[A-Za-zА-Яа-я]',na=False)].count()"
   ]
  },
  {
   "cell_type": "markdown",
   "metadata": {},
   "source": [
    "### Документ_Серия"
   ]
  },
  {
   "cell_type": "code",
   "execution_count": 270,
   "metadata": {},
   "outputs": [],
   "source": [
    "# выводим любые цифры в колонке\n",
    "# df_1['Документ_Серия'][df_1['Документ_Серия'].str.contains('\\\\d', regex=True,na=False)].head()"
   ]
  },
  {
   "cell_type": "code",
   "execution_count": 19,
   "metadata": {},
   "outputs": [],
   "source": [
    "# выводим любые цифры в колонке\n",
    "df_1['Документ_Серия'][df_1['Документ_Серия'].str.contains('[0-9]+',na=False)].head()"
   ]
  },
  {
   "cell_type": "code",
   "execution_count": 260,
   "metadata": {},
   "outputs": [
    {
     "data": {
      "text/plain": [
       "470368"
      ]
     },
     "execution_count": 260,
     "metadata": {},
     "output_type": "execute_result"
    }
   ],
   "source": [
    "# выводим кол-во цифр в колонке\n",
    "df_1['Документ_Серия'][df_1['Документ_Серия'].str.contains('[0-9]+',na=False)].count()"
   ]
  },
  {
   "cell_type": "code",
   "execution_count": 271,
   "metadata": {},
   "outputs": [
    {
     "data": {
      "text/plain": [
       "2990"
      ]
     },
     "execution_count": 271,
     "metadata": {},
     "output_type": "execute_result"
    }
   ],
   "source": [
    "# выводим любые цифры в колонке уникальных значений\n",
    "df_1['Документ_Серия'][df_1['Документ_Серия'].str.contains('[0-9]+',na=False)].nunique()"
   ]
  },
  {
   "cell_type": "code",
   "execution_count": 20,
   "metadata": {
    "scrolled": true
   },
   "outputs": [],
   "source": [
    "# выводим любые строчные в колонке\n",
    "df_1['Документ_Серия'][df_1['Документ_Серия'].str.contains('[A-Za-zА-Яа-я]',na=False)].head()"
   ]
  },
  {
   "cell_type": "code",
   "execution_count": 274,
   "metadata": {},
   "outputs": [
    {
     "data": {
      "text/plain": [
       "36387"
      ]
     },
     "execution_count": 274,
     "metadata": {},
     "output_type": "execute_result"
    }
   ],
   "source": [
    "# выводим любые строчные в колонке\n",
    "df_1['Документ_Серия'][df_1['Документ_Серия'].str.contains('[A-Za-zА-Яа-я]',na=False)].count()"
   ]
  },
  {
   "cell_type": "code",
   "execution_count": 275,
   "metadata": {},
   "outputs": [
    {
     "data": {
      "text/plain": [
       "462"
      ]
     },
     "execution_count": 275,
     "metadata": {},
     "output_type": "execute_result"
    }
   ],
   "source": [
    "# выводим любые строчные в колонке\n",
    "df_1['Документ_Серия'][df_1['Документ_Серия'].str.contains('[A-Za-zА-Яа-я]+',na=False)].nunique()"
   ]
  },
  {
   "cell_type": "code",
   "execution_count": 281,
   "metadata": {},
   "outputs": [
    {
     "data": {
      "text/plain": [
       "0"
      ]
     },
     "execution_count": 281,
     "metadata": {},
     "output_type": "execute_result"
    }
   ],
   "source": [
    "# выводим null\n",
    "df_1['Документ_Серия'].loc[df_1['Документ_Серия'].isnull()].count()"
   ]
  },
  {
   "cell_type": "code",
   "execution_count": 276,
   "metadata": {},
   "outputs": [
    {
     "data": {
      "text/plain": [
       "6382"
      ]
     },
     "execution_count": 276,
     "metadata": {},
     "output_type": "execute_result"
    }
   ],
   "source": [
    "# показывает NaN(количество пропущенных значений)\n",
    "len(df_1['Документ_Серия'])-df_1['Документ_Серия'].count() "
   ]
  },
  {
   "cell_type": "code",
   "execution_count": 280,
   "metadata": {},
   "outputs": [
    {
     "data": {
      "text/plain": [
       "267      NaN\n",
       "3273     NaN\n",
       "23809    NaN\n",
       "26221    NaN\n",
       "34272    NaN\n",
       "Name: Документ_Серия, dtype: object"
      ]
     },
     "execution_count": 280,
     "metadata": {},
     "output_type": "execute_result"
    }
   ],
   "source": [
    "# выводим nan\n",
    "df_1['Документ_Серия'].loc[df_1['Документ_Серия'].isnull()].head(5)"
   ]
  },
  {
   "cell_type": "code",
   "execution_count": 278,
   "metadata": {},
   "outputs": [
    {
     "data": {
      "text/plain": [
       "Комплекс                      0\n",
       "ОИВ                           0\n",
       "Организация                   0\n",
       "ИННорг                        0\n",
       "ФИО                           1\n",
       "СНИЛС                       609\n",
       "ДР                           16\n",
       "Должность                     6\n",
       "ВидЗанятости                 41\n",
       "ТипДУЛ                      540\n",
       "Документ_Серия             6382\n",
       "Документ_Номер              629\n",
       "ДатаВыдачи                  826\n",
       "ТелМобильный              20694\n",
       "Номер_телефонаРабочий    210699\n",
       "Email                     36901\n",
       "EmailЛичный              494616\n",
       "dtype: int64"
      ]
     },
     "execution_count": 278,
     "metadata": {},
     "output_type": "execute_result"
    }
   ],
   "source": [
    "# показывает NaN(количество пропущенных значений)\n",
    "len(df_1)-df_1.count()"
   ]
  },
  {
   "cell_type": "markdown",
   "metadata": {},
   "source": [
    "### Документ_Номер"
   ]
  },
  {
   "cell_type": "code",
   "execution_count": 220,
   "metadata": {},
   "outputs": [
    {
     "data": {
      "text/plain": [
       "512120"
      ]
     },
     "execution_count": 220,
     "metadata": {},
     "output_type": "execute_result"
    }
   ],
   "source": [
    "# выводим любые цифры в колонке\n",
    "df_1['Документ_Номер'][df_1['Документ_Номер'].str.contains('[0-9]+',na=False)].count()"
   ]
  },
  {
   "cell_type": "code",
   "execution_count": 222,
   "metadata": {},
   "outputs": [
    {
     "data": {
      "text/plain": [
       "1807"
      ]
     },
     "execution_count": 222,
     "metadata": {},
     "output_type": "execute_result"
    }
   ],
   "source": [
    "# выводим любые знаки кроме цифр в колонке\n",
    "df_1['Документ_Номер'][df_1['Документ_Номер'].str.contains('[^0-9]+',na=False)].count()"
   ]
  },
  {
   "cell_type": "code",
   "execution_count": 21,
   "metadata": {},
   "outputs": [],
   "source": [
    "df_1['Документ_Номер'][df_1['Документ_Номер'].str.contains('[^0-9]+',na=False)].head()"
   ]
  },
  {
   "cell_type": "markdown",
   "metadata": {},
   "source": [
    "# <font color=\"red\">!!!</font>"
   ]
  },
  {
   "cell_type": "code",
   "execution_count": 266,
   "metadata": {},
   "outputs": [
    {
     "data": {
      "text/plain": [
       "1691"
      ]
     },
     "execution_count": 266,
     "metadata": {},
     "output_type": "execute_result"
    }
   ],
   "source": [
    "# выводим только все кроме цифр в колонке уникальных строк\n",
    "df_1['Документ_Номер'][df_1['Документ_Номер'].str.contains('[^0-9]+',na=False)].nunique()"
   ]
  },
  {
   "cell_type": "code",
   "execution_count": 267,
   "metadata": {},
   "outputs": [
    {
     "data": {
      "text/plain": [
       "1171"
      ]
     },
     "execution_count": 267,
     "metadata": {},
     "output_type": "execute_result"
    }
   ],
   "source": [
    "# выводим любые строчные в колонке\n",
    "df_1['Документ_Номер'][df_1['Документ_Номер'].str.contains('[A-Za-zА-Яа-я]',na=False)].nunique()"
   ]
  },
  {
   "cell_type": "code",
   "execution_count": 22,
   "metadata": {},
   "outputs": [],
   "source": [
    "# выводим любые строчные в колонке\n",
    "df_1['Документ_Номер'][df_1['Документ_Номер'].str.contains('[A-Za-zА-Яа-я]',na=False)].head(3)"
   ]
  },
  {
   "cell_type": "code",
   "execution_count": 23,
   "metadata": {},
   "outputs": [],
   "source": [
    "# выводим любые строчные в колонке\n",
    "df_1['Документ_Номер'][df_1['Документ_Номер'].str.contains('[ ]',na=False)].unique()"
   ]
  },
  {
   "cell_type": "code",
   "execution_count": 288,
   "metadata": {},
   "outputs": [
    {
     "data": {
      "text/plain": [
       "653"
      ]
     },
     "execution_count": 288,
     "metadata": {},
     "output_type": "execute_result"
    }
   ],
   "source": [
    "# выводим любые строчные в колонке\n",
    "df_1['Документ_Номер'][df_1['Документ_Номер'].str.contains('[ ]',na=False)].nunique()"
   ]
  },
  {
   "cell_type": "code",
   "execution_count": 206,
   "metadata": {},
   "outputs": [
    {
     "data": {
      "text/plain": [
       "array([' 721330 ', ' 283246 ', ' 848630 ', ' ', ' 1108747 '], dtype=object)"
      ]
     },
     "execution_count": 206,
     "metadata": {},
     "output_type": "execute_result"
    }
   ],
   "source": [
    "# выводим любые строчные в колонке\n",
    "df_1['Документ_Номер'][df_1['Документ_Номер'].str.contains('[ ]$',na=False)].unique()"
   ]
  },
  {
   "cell_type": "code",
   "execution_count": 268,
   "metadata": {},
   "outputs": [
    {
     "data": {
      "text/plain": [
       "629"
      ]
     },
     "execution_count": 268,
     "metadata": {},
     "output_type": "execute_result"
    }
   ],
   "source": [
    "# показывает NaN(количество пропущенных значений)\n",
    "len(df_1['Документ_Номер'])-df_1['Документ_Номер'].count() "
   ]
  },
  {
   "cell_type": "code",
   "execution_count": 269,
   "metadata": {},
   "outputs": [
    {
     "data": {
      "text/plain": [
       "267      NaN\n",
       "3273     NaN\n",
       "36764    NaN\n",
       "38620    NaN\n",
       "38647    NaN\n",
       "Name: Документ_Номер, dtype: object"
      ]
     },
     "execution_count": 269,
     "metadata": {},
     "output_type": "execute_result"
    }
   ],
   "source": [
    "# выводим nan\n",
    "df_1['Документ_Номер'].loc[df_1['Документ_Номер'].isnull()].head(5)"
   ]
  },
  {
   "cell_type": "code",
   "execution_count": 230,
   "metadata": {},
   "outputs": [],
   "source": [
    "#df_1['Документ_Номер'].nunique()"
   ]
  },
  {
   "cell_type": "markdown",
   "metadata": {},
   "source": [
    "### ДатаВыдачи"
   ]
  },
  {
   "cell_type": "code",
   "execution_count": 304,
   "metadata": {},
   "outputs": [],
   "source": [
    "# df_1.count()"
   ]
  },
  {
   "cell_type": "code",
   "execution_count": 233,
   "metadata": {},
   "outputs": [
    {
     "data": {
      "text/plain": [
       "511924"
      ]
     },
     "execution_count": 233,
     "metadata": {},
     "output_type": "execute_result"
    }
   ],
   "source": [
    "# выводим любые цифры в колонке\n",
    "df_1['ДатаВыдачи'][df_1['ДатаВыдачи'].str.contains('[0-9]+',na=False)].count()"
   ]
  },
  {
   "cell_type": "code",
   "execution_count": 241,
   "metadata": {},
   "outputs": [
    {
     "data": {
      "text/plain": [
       "8144"
      ]
     },
     "execution_count": 241,
     "metadata": {},
     "output_type": "execute_result"
    }
   ],
   "source": [
    "# выводим любые цифры в колонке\n",
    "df_1['ДатаВыдачи'][df_1['ДатаВыдачи'].str.contains('[0-9]+',na=False)].nunique()"
   ]
  },
  {
   "cell_type": "code",
   "execution_count": 296,
   "metadata": {},
   "outputs": [
    {
     "data": {
      "text/plain": [
       "8144"
      ]
     },
     "execution_count": 296,
     "metadata": {},
     "output_type": "execute_result"
    }
   ],
   "source": [
    "# выводим строки с точкой в колонке\n",
    "df_1['ДатаВыдачи'][df_1['ДатаВыдачи'].str.contains('[.]+',na=False)].nunique()"
   ]
  },
  {
   "cell_type": "code",
   "execution_count": 283,
   "metadata": {},
   "outputs": [
    {
     "data": {
      "text/plain": [
       "0"
      ]
     },
     "execution_count": 283,
     "metadata": {},
     "output_type": "execute_result"
    }
   ],
   "source": [
    "# выводим строки с пробелом в колонке\n",
    "df_1['ДатаВыдачи'][df_1['ДатаВыдачи'].str.contains('[ ]+',na=False)].nunique()"
   ]
  },
  {
   "cell_type": "code",
   "execution_count": 279,
   "metadata": {},
   "outputs": [
    {
     "data": {
      "text/plain": [
       "0"
      ]
     },
     "execution_count": 279,
     "metadata": {},
     "output_type": "execute_result"
    }
   ],
   "source": [
    "# выводим любые строчные в колонке\n",
    "df_1['ДатаВыдачи'][df_1['ДатаВыдачи'].str.contains('[A-Za-zА-Яа-я]',na=False)].count()"
   ]
  },
  {
   "cell_type": "code",
   "execution_count": 305,
   "metadata": {},
   "outputs": [
    {
     "data": {
      "text/plain": [
       "0"
      ]
     },
     "execution_count": 305,
     "metadata": {},
     "output_type": "execute_result"
    }
   ],
   "source": [
    "# выводим все кроме цифр и точки в колонке\n",
    "df_1['ДатаВыдачи'][df_1['ДатаВыдачи'].str.contains('[^0-9.]+',na=False)].count()"
   ]
  },
  {
   "cell_type": "code",
   "execution_count": 238,
   "metadata": {},
   "outputs": [
    {
     "data": {
      "text/plain": [
       "826"
      ]
     },
     "execution_count": 238,
     "metadata": {},
     "output_type": "execute_result"
    }
   ],
   "source": [
    "# пропущенно значений = NaN\n",
    "len(df_1['ДатаВыдачи'])-df_1['ДатаВыдачи'].count()"
   ]
  },
  {
   "cell_type": "code",
   "execution_count": 297,
   "metadata": {},
   "outputs": [
    {
     "data": {
      "text/plain": [
       "267      NaN\n",
       "1045     NaN\n",
       "3273     NaN\n",
       "4046     NaN\n",
       "23809    NaN\n",
       "Name: ДатаВыдачи, dtype: object"
      ]
     },
     "execution_count": 297,
     "metadata": {},
     "output_type": "execute_result"
    }
   ],
   "source": [
    "# выводим nan\n",
    "df_1['ДатаВыдачи'].loc[df_1['ДатаВыдачи'].isnull()].head(5)"
   ]
  },
  {
   "cell_type": "markdown",
   "metadata": {},
   "source": [
    "### ТелМобильный"
   ]
  },
  {
   "cell_type": "markdown",
   "metadata": {},
   "source": [
    "# <font color=\"red\">!!!</font>"
   ]
  },
  {
   "cell_type": "code",
   "execution_count": 286,
   "metadata": {},
   "outputs": [
    {
     "data": {
      "text/plain": [
       "20694"
      ]
     },
     "execution_count": 286,
     "metadata": {},
     "output_type": "execute_result"
    }
   ],
   "source": [
    "# показывает NaN(количество пропущенных значений) по колонкам\n",
    "len(df_1['ТелМобильный'])-df_1['ТелМобильный'].count() "
   ]
  },
  {
   "cell_type": "code",
   "execution_count": 288,
   "metadata": {},
   "outputs": [
    {
     "data": {
      "text/plain": [
       "4.04"
      ]
     },
     "execution_count": 288,
     "metadata": {},
     "output_type": "execute_result"
    }
   ],
   "source": [
    "# Количество пропущенных значений (в процентах)\n",
    "round((len(df_1['ТелМобильный']) - df_1['ТелМобильный'].count()) / len(df_1['ТелМобильный']) * 100, 2)"
   ]
  },
  {
   "cell_type": "code",
   "execution_count": 290,
   "metadata": {},
   "outputs": [
    {
     "data": {
      "text/plain": [
       "491996"
      ]
     },
     "execution_count": 290,
     "metadata": {},
     "output_type": "execute_result"
    }
   ],
   "source": [
    "# выводим любые цифры в колонке\n",
    "df_1['ТелМобильный'][df_1['ТелМобильный'].str.contains('[0-9]+',na=False)].count()"
   ]
  },
  {
   "cell_type": "code",
   "execution_count": 291,
   "metadata": {},
   "outputs": [
    {
     "data": {
      "text/plain": [
       "434716"
      ]
     },
     "execution_count": 291,
     "metadata": {},
     "output_type": "execute_result"
    }
   ],
   "source": [
    "# выводим любые цифры в колонке\n",
    "df_1['ТелМобильный'][df_1['ТелМобильный'].str.contains('[0-9]+',na=False)].nunique()"
   ]
  },
  {
   "cell_type": "code",
   "execution_count": 293,
   "metadata": {},
   "outputs": [
    {
     "data": {
      "text/plain": [
       "427268"
      ]
     },
     "execution_count": 293,
     "metadata": {},
     "output_type": "execute_result"
    }
   ],
   "source": [
    "# выводим все кроме цифр и точки в колонке\n",
    "df_1['ТелМобильный'][df_1['ТелМобильный'].str.contains('[^0-9]+',na=False)].nunique()"
   ]
  },
  {
   "cell_type": "code",
   "execution_count": 307,
   "metadata": {},
   "outputs": [
    {
     "data": {
      "text/plain": [
       "4654"
      ]
     },
     "execution_count": 307,
     "metadata": {},
     "output_type": "execute_result"
    }
   ],
   "source": [
    "# выводим любые строчные в колонке\n",
    "df_1['ТелМобильный'][df_1['ТелМобильный'].str.contains('[A-Za-zА-Яа-я]',na=False)].nunique()"
   ]
  },
  {
   "cell_type": "code",
   "execution_count": 24,
   "metadata": {},
   "outputs": [],
   "source": [
    "# выводим любые строчные в колонке\n",
    "df_1['ТелМобильный'][df_1['ТелМобильный'].str.contains('[A-Za-zА-Яа-я]',na=False)].unique()"
   ]
  },
  {
   "cell_type": "code",
   "execution_count": 25,
   "metadata": {},
   "outputs": [],
   "source": [
    "df_1['ТелМобильный'][df_1['ТелМобильный'].str.contains('[A-Za-zА-Яа-я]+',na=False)]"
   ]
  },
  {
   "cell_type": "code",
   "execution_count": 26,
   "metadata": {
    "scrolled": true
   },
   "outputs": [],
   "source": [
    "# выводим любые цифр в колонке\n",
    "df_1['ТелМобильный'][df_1['ТелМобильный'].str.contains('[0-9]+',na=False)]"
   ]
  },
  {
   "cell_type": "code",
   "execution_count": null,
   "metadata": {},
   "outputs": [],
   "source": []
  },
  {
   "cell_type": "code",
   "execution_count": 27,
   "metadata": {},
   "outputs": [],
   "source": [
    "# выводим любые цифр в колонке\n",
    "df_1['ТелМобильный'][df_1['ТелМобильный'].str.contains('[\\d]',na=False)]"
   ]
  },
  {
   "cell_type": "code",
   "execution_count": 28,
   "metadata": {},
   "outputs": [],
   "source": [
    "# выводим любые цифр в колонке\n",
    "df_1['ТелМобильный'][df_1['ТелМобильный'].str.contains('(?i)(\\W|^)(Жена|мать|сестра|бабушка|отец)(\\W|$)',na=False)]"
   ]
  },
  {
   "cell_type": "markdown",
   "metadata": {},
   "source": [
    "(?i)(\\W|^)(туфта|проклятие|убирайся|бред|черт\\sвозьми|зараза)(\\W|$) \n",
    "  \n",
    "Элемент (...) объединяет все слова, а класс символов \\W применяется ко всем словам в круглых скобках.\n",
    "\n",
    "(?i) делает выражение нечувствительным к регистру.\n",
    "\n",
    "\\W соответствует любому символу, кроме букв, цифр и знака подчеркивания. Этот элемент исключает из поиска символы в начале или конце слова или фразы из списка.\n",
    "\n",
    "^ соответствует началу новой строки. Этот элемент позволяет искать с помощью регулярного выражения слова, которые находятся в начале строки и перед которыми отсутствуют символы.\n",
    "\n",
    "$ соответствует окончанию строки. Этот элемент позволяет искать с помощью регулярного выражения слова, которые находятся в конце строки и после которых отсутствуют символы.\n",
    "\n",
    "Знак | соответствует оператору \"или\"; таким образом, регулярное выражение будет искать каждое слово из списка по отдельности.\n",
    "\n",
    "\\s соответствует пробелу. Этот символ используется для разделения слов в фразе."
   ]
  },
  {
   "cell_type": "code",
   "execution_count": 308,
   "metadata": {},
   "outputs": [
    {
     "data": {
      "text/plain": [
       "20694"
      ]
     },
     "execution_count": 308,
     "metadata": {},
     "output_type": "execute_result"
    }
   ],
   "source": [
    "# показывает NaN(количество пропущенных значений)\n",
    "len(df_1['ТелМобильный'])-df_1['ТелМобильный'].count() "
   ]
  },
  {
   "cell_type": "code",
   "execution_count": 309,
   "metadata": {},
   "outputs": [
    {
     "data": {
      "text/plain": [
       "834     NaN\n",
       "859     NaN\n",
       "1135    NaN\n",
       "1207    NaN\n",
       "3653    NaN\n",
       "Name: ТелМобильный, dtype: object"
      ]
     },
     "execution_count": 309,
     "metadata": {},
     "output_type": "execute_result"
    }
   ],
   "source": [
    "# выводим nan\n",
    "df_1['ТелМобильный'].loc[df_1['ТелМобильный'].isnull()].head(5)"
   ]
  },
  {
   "cell_type": "code",
   "execution_count": 310,
   "metadata": {},
   "outputs": [
    {
     "data": {
      "text/plain": [
       "Комплекс                      0\n",
       "ОИВ                           0\n",
       "Организация                   0\n",
       "ИННорг                        0\n",
       "ФИО                           1\n",
       "СНИЛС                       609\n",
       "ДР                           16\n",
       "Должность                     6\n",
       "ВидЗанятости                 41\n",
       "ТипДУЛ                      540\n",
       "Документ_Серия             6382\n",
       "Документ_Номер              629\n",
       "ДатаВыдачи                  826\n",
       "ТелМобильный              20694\n",
       "Номер_телефонаРабочий    210699\n",
       "Email                     36901\n",
       "EmailЛичный              494616\n",
       "dtype: int64"
      ]
     },
     "execution_count": 310,
     "metadata": {},
     "output_type": "execute_result"
    }
   ],
   "source": [
    "# показывает NaN(количество пропущенных значений)\n",
    "len(df_1)-df_1.count() "
   ]
  },
  {
   "cell_type": "markdown",
   "metadata": {},
   "source": [
    "### Номер_телефонаРабочий"
   ]
  },
  {
   "cell_type": "markdown",
   "metadata": {},
   "source": [
    "#### пропуски"
   ]
  },
  {
   "cell_type": "code",
   "execution_count": 15,
   "metadata": {},
   "outputs": [
    {
     "data": {
      "text/plain": [
       "210699"
      ]
     },
     "execution_count": 15,
     "metadata": {},
     "output_type": "execute_result"
    }
   ],
   "source": [
    "# показывает NaN(количество пропущенных значений) по колонкам\n",
    "len(df_1['Номер_телефонаРабочий'])-df_1['Номер_телефонаРабочий'].count()"
   ]
  },
  {
   "cell_type": "markdown",
   "metadata": {},
   "source": [
    "####  % пропусков"
   ]
  },
  {
   "cell_type": "code",
   "execution_count": 16,
   "metadata": {},
   "outputs": [
    {
     "data": {
      "text/plain": [
       "41.09"
      ]
     },
     "execution_count": 16,
     "metadata": {},
     "output_type": "execute_result"
    }
   ],
   "source": [
    "# Количество пропущенных значений (в процентах)\n",
    "round((len(df_1['Номер_телефонаРабочий']) - df_1['Номер_телефонаРабочий'].count()) / len(df_1['Номер_телефонаРабочий']) * 100, 2)"
   ]
  },
  {
   "cell_type": "code",
   "execution_count": 17,
   "metadata": {},
   "outputs": [
    {
     "data": {
      "text/plain": [
       "301871"
      ]
     },
     "execution_count": 17,
     "metadata": {},
     "output_type": "execute_result"
    }
   ],
   "source": [
    "# выводим любые цифры в колонке\n",
    "df_1['Номер_телефонаРабочий'][df_1['Номер_телефонаРабочий'].str.contains('[0-9]+',na=False)].count()"
   ]
  },
  {
   "cell_type": "code",
   "execution_count": 18,
   "metadata": {},
   "outputs": [
    {
     "data": {
      "text/plain": [
       "76060"
      ]
     },
     "execution_count": 18,
     "metadata": {},
     "output_type": "execute_result"
    }
   ],
   "source": [
    "# выводим любые цифры в колонке\n",
    "df_1['Номер_телефонаРабочий'][df_1['Номер_телефонаРабочий'].str.contains('[0-9]+',na=False)].nunique()"
   ]
  },
  {
   "cell_type": "code",
   "execution_count": 304,
   "metadata": {},
   "outputs": [
    {
     "data": {
      "text/plain": [
       "73566"
      ]
     },
     "execution_count": 304,
     "metadata": {},
     "output_type": "execute_result"
    }
   ],
   "source": [
    "# выводим все кроме цифр в колонке\n",
    "df_1['Номер_телефонаРабочий'][df_1['Номер_телефонаРабочий'].str.contains('[^0-9]+',na=False)].nunique()"
   ]
  },
  {
   "cell_type": "code",
   "execution_count": 319,
   "metadata": {},
   "outputs": [
    {
     "data": {
      "text/plain": [
       "4762"
      ]
     },
     "execution_count": 319,
     "metadata": {},
     "output_type": "execute_result"
    }
   ],
   "source": [
    "# выводим все кроме цифр в колонке\n",
    "df_1['Номер_телефонаРабочий'][df_1['Номер_телефонаРабочий'].str.contains('[A-Za-zА-Яа-я]+',na=False)].count()"
   ]
  },
  {
   "cell_type": "code",
   "execution_count": 305,
   "metadata": {},
   "outputs": [
    {
     "data": {
      "text/plain": [
       "3274"
      ]
     },
     "execution_count": 305,
     "metadata": {},
     "output_type": "execute_result"
    }
   ],
   "source": [
    "# выводим кол-во строчных в колонке с уникальными значениями\n",
    "df_1['Номер_телефонаРабочий'][df_1['Номер_телефонаРабочий'].str.contains('[A-Za-zА-Яа-я]+',na=False)].nunique()"
   ]
  },
  {
   "cell_type": "code",
   "execution_count": 29,
   "metadata": {},
   "outputs": [],
   "source": [
    "# выводим любые строчные в колонке с уникальными значениями\n",
    "df_1['Номер_телефонаРабочий'][df_1['Номер_телефонаРабочий'].str.contains('[A-Za-zА-Яа-я]+',na=False)].unique()"
   ]
  },
  {
   "cell_type": "markdown",
   "metadata": {},
   "source": [
    "# <font color=\"red\">!!!</font>"
   ]
  },
  {
   "cell_type": "code",
   "execution_count": 30,
   "metadata": {},
   "outputs": [],
   "source": [
    "# выводим любые строчные в колонке с уникальными значениями\n",
    "df_1['Номер_телефонаРабочий'][df_1['Номер_телефонаРабочий'].str.contains('[A-Za-zА-Яа-я]+',na=False)].head()"
   ]
  },
  {
   "cell_type": "code",
   "execution_count": 312,
   "metadata": {},
   "outputs": [
    {
     "data": {
      "text/plain": [
       "3175"
      ]
     },
     "execution_count": 312,
     "metadata": {},
     "output_type": "execute_result"
    }
   ],
   "source": [
    "# выводим все строки с 'доб.'\n",
    "df_1['Номер_телефонаРабочий'][df_1['Номер_телефонаРабочий'].str.contains('доб.',na=False)].nunique()"
   ]
  },
  {
   "cell_type": "code",
   "execution_count": 31,
   "metadata": {},
   "outputs": [],
   "source": [
    "# выводим всё кроме цифр в колонке\n",
    "df_1['Номер_телефонаРабочий'][df_1['Номер_телефонаРабочий'].str.contains('[^0-9]+',na=False)].tail()"
   ]
  },
  {
   "cell_type": "code",
   "execution_count": 313,
   "metadata": {},
   "outputs": [],
   "source": [
    "# df_1.loc[df_1['ФИО'] == \"Бузаев Андрей Федорович\", :]"
   ]
  },
  {
   "cell_type": "markdown",
   "metadata": {},
   "source": [
    "### Email"
   ]
  },
  {
   "cell_type": "code",
   "execution_count": 32,
   "metadata": {},
   "outputs": [],
   "source": [
    "# выводим кол-во любых цифр в колонке\n",
    "df_1['Email'][df_1['Email'].str.contains('(?i)(\\W)(\\W@)(\\W|$)',na=False)]"
   ]
  },
  {
   "cell_type": "code",
   "execution_count": 324,
   "metadata": {},
   "outputs": [
    {
     "data": {
      "text/plain": [
       "36901"
      ]
     },
     "execution_count": 324,
     "metadata": {},
     "output_type": "execute_result"
    }
   ],
   "source": [
    "# показывает NaN(количество пропущенных значений) по колонкам\n",
    "len(df_1['Email'])-df_1['Email'].count()"
   ]
  },
  {
   "cell_type": "code",
   "execution_count": 341,
   "metadata": {},
   "outputs": [
    {
     "name": "stdout",
     "output_type": "stream",
     "text": [
      "7.2 %\n"
     ]
    }
   ],
   "source": [
    "# Количество пропущенных значений (в процентах)\n",
    "pros = round((len(df_1['Email']) - df_1['Email'].count()) / len(df_1['Email']) * 100, 2)\n",
    "print(f'{pros}' + ' %')"
   ]
  },
  {
   "cell_type": "code",
   "execution_count": 352,
   "metadata": {},
   "outputs": [
    {
     "data": {
      "text/plain": [
       "232976"
      ]
     },
     "execution_count": 352,
     "metadata": {},
     "output_type": "execute_result"
    }
   ],
   "source": [
    "# выводим кол-во любых цифр в колонке\n",
    "df_1['Email'][df_1['Email'].str.contains('[0-9]+',na=False)].count()"
   ]
  },
  {
   "cell_type": "code",
   "execution_count": 33,
   "metadata": {},
   "outputs": [],
   "source": [
    "# выводим любые цифры в колонке\n",
    "df_1['Email'][df_1['Email'].str.contains('[0-9]+',na=False)].head(2)"
   ]
  },
  {
   "cell_type": "code",
   "execution_count": null,
   "metadata": {},
   "outputs": [],
   "source": []
  },
  {
   "cell_type": "code",
   "execution_count": 110,
   "metadata": {},
   "outputs": [
    {
     "data": {
      "text/plain": [
       "475712"
      ]
     },
     "execution_count": 110,
     "metadata": {},
     "output_type": "execute_result"
    }
   ],
   "source": [
    "# выводим все кроме цифр в колонке\n",
    "df_1['Email'][df_1['Email'].str.contains('[A-Za-zА-Яа-я]',na=False)].count()"
   ]
  },
  {
   "cell_type": "code",
   "execution_count": 75,
   "metadata": {},
   "outputs": [
    {
     "data": {
      "text/plain": [
       "36901"
      ]
     },
     "execution_count": 75,
     "metadata": {},
     "output_type": "execute_result"
    }
   ],
   "source": [
    "len(df_1['Email'])-df_1['Email'].count()"
   ]
  },
  {
   "cell_type": "code",
   "execution_count": 102,
   "metadata": {},
   "outputs": [
    {
     "data": {
      "text/plain": [
       "(475849, 475846)"
      ]
     },
     "execution_count": 102,
     "metadata": {},
     "output_type": "execute_result"
    }
   ],
   "source": [
    "# считаем сколько почт, сколько почт со знаком \"@\"\n",
    "df_1['Email'].count(), df_1['Email'][df_1['Email'].str.contains('[@]',na=False)].count()"
   ]
  },
  {
   "cell_type": "code",
   "execution_count": 101,
   "metadata": {},
   "outputs": [
    {
     "data": {
      "text/plain": [
       "3"
      ]
     },
     "execution_count": 101,
     "metadata": {},
     "output_type": "execute_result"
    }
   ],
   "source": [
    "# Вычетаем из суммы почт кол-во почт с собакой\n",
    "df_1['Email'].count() - df_1['Email'][df_1['Email'].str.contains('[@]',na=False)].count()"
   ]
  },
  {
   "cell_type": "code",
   "execution_count": 97,
   "metadata": {},
   "outputs": [
    {
     "data": {
      "text/plain": [
       "3"
      ]
     },
     "execution_count": 97,
     "metadata": {},
     "output_type": "execute_result"
    }
   ],
   "source": [
    "# выводим все почты без @\n",
    "df_1['Email'][df_1['Email'].str.contains('^[^@]*$',na=False)].count()"
   ]
  },
  {
   "cell_type": "code",
   "execution_count": 100,
   "metadata": {},
   "outputs": [
    {
     "data": {
      "text/plain": [
       "2"
      ]
     },
     "execution_count": 100,
     "metadata": {},
     "output_type": "execute_result"
    }
   ],
   "source": [
    "# выводим уникальных почты без @\n",
    "df_1['Email'][df_1['Email'].str.contains('^[^@]*$',na=False)].nunique()"
   ]
  },
  {
   "cell_type": "code",
   "execution_count": 131,
   "metadata": {},
   "outputs": [
    {
     "data": {
      "text/plain": [
       "600"
      ]
     },
     "execution_count": 131,
     "metadata": {},
     "output_type": "execute_result"
    }
   ],
   "source": [
    "df_1['Email'][df_1['Email'].str.contains('^[А-Яа-я]{0,}@yandex.ru|^[А-Яа-я]{0,}@mail.ru',na=False)].nunique()"
   ]
  },
  {
   "cell_type": "code",
   "execution_count": 136,
   "metadata": {},
   "outputs": [
    {
     "name": "stdout",
     "output_type": "stream",
     "text": [
      "Кол-во значений NaN: 36901\n",
      "Кол-во почт без знака '@'(без NaN) : 3\n",
      "Кол-во уникальных почт без знака '@' : 2\n",
      "Кол-во до двух знаков(символов) перед знаком '@' : 29966\n",
      "Кол-во уникальных до двух знаков(символов) перед знаком '@' : 1367\n",
      "Кол-во кириллицы до знака '@' : 1904\n",
      "Кол-во уникальных кириллицы до знака '@' : 795\n",
      "Кол-во не допустимых с доменом yandex.ru : 225\n",
      "Кол-во уникальных не допустимых с доменом yandex.ru : 4\n",
      "Кол-во не допустимых с доменом mail.ru : 45881\n",
      "Кол-во уникальных не допустимых с доменом mail.ru : 4287\n",
      "Кол-во не допустимых с доменом gmail.ru : 31\n",
      "Кол-во уникальных не допустимых с доменом gmail.ru : 28\n"
     ]
    }
   ],
   "source": []
  },
  {
   "cell_type": "code",
   "execution_count": null,
   "metadata": {},
   "outputs": [],
   "source": []
  },
  {
   "cell_type": "code",
   "execution_count": 99,
   "metadata": {},
   "outputs": [
    {
     "data": {
      "text/plain": [
       "932"
      ]
     },
     "execution_count": 99,
     "metadata": {},
     "output_type": "execute_result"
    }
   ],
   "source": [
    "# выводим несколько символов после @ в колонке\n",
    "df_1['Email'][df_1['Email'].str.contains('¶',na=False)].count()"
   ]
  },
  {
   "cell_type": "code",
   "execution_count": 103,
   "metadata": {},
   "outputs": [
    {
     "data": {
      "text/plain": [
       "792"
      ]
     },
     "execution_count": 103,
     "metadata": {},
     "output_type": "execute_result"
    }
   ],
   "source": [
    "# выводим несколько символов после @ в колонке\n",
    "df_1['Email'][df_1['Email'].str.contains('¶',na=False)].nunique()"
   ]
  },
  {
   "cell_type": "code",
   "execution_count": 34,
   "metadata": {},
   "outputs": [],
   "source": [
    "# выводим несколько символов после @ в колонке\n",
    "df_1['Email'][df_1['Email'].str.contains('¶',na=False)].groupby(df_1['Email']).count().head()"
   ]
  },
  {
   "cell_type": "code",
   "execution_count": null,
   "metadata": {},
   "outputs": [],
   "source": []
  },
  {
   "cell_type": "code",
   "execution_count": 364,
   "metadata": {},
   "outputs": [
    {
     "data": {
      "text/plain": [
       "4849"
      ]
     },
     "execution_count": 364,
     "metadata": {},
     "output_type": "execute_result"
    }
   ],
   "source": [
    "# выводим \n",
    "df_1['Email'][df_1['Email'].str.contains('^\\W@',na=False)].count()"
   ]
  },
  {
   "cell_type": "code",
   "execution_count": 35,
   "metadata": {},
   "outputs": [],
   "source": [
    "# выводим \n",
    "df_1['Email'][df_1['Email'].str.contains('^\\W@',na=False)].unique()"
   ]
  },
  {
   "cell_type": "code",
   "execution_count": 370,
   "metadata": {},
   "outputs": [
    {
     "data": {
      "text/plain": [
       "392"
      ]
     },
     "execution_count": 370,
     "metadata": {},
     "output_type": "execute_result"
    }
   ],
   "source": [
    "# выводим все кроме цифр в колонке\n",
    "df_1['Email'][df_1['Email'].str.contains('^\\w@',na=False)].nunique()"
   ]
  },
  {
   "cell_type": "code",
   "execution_count": 36,
   "metadata": {},
   "outputs": [],
   "source": [
    "# выводим  \n",
    "df_1['Email'][df_1['Email'].str.contains('^\\w@',na=False)].unique()"
   ]
  },
  {
   "cell_type": "code",
   "execution_count": 372,
   "metadata": {},
   "outputs": [
    {
     "data": {
      "text/plain": [
       "117283    !@1.ru\n",
       "Name: Email, dtype: object"
      ]
     },
     "execution_count": 372,
     "metadata": {},
     "output_type": "execute_result"
    }
   ],
   "source": [
    "# проверяю наличие странной почты в колонке\n",
    "df_1['Email'][(df_1['Email']== '!@1.ru')]"
   ]
  },
  {
   "cell_type": "code",
   "execution_count": 37,
   "metadata": {},
   "outputs": [],
   "source": [
    "# выводим все пробелы в колонке\n",
    "df_1['Email'][df_1['Email'].str.contains(' ',na=False)]"
   ]
  },
  {
   "cell_type": "code",
   "execution_count": 38,
   "metadata": {},
   "outputs": [],
   "source": [
    "# выводим  \n",
    "df_1['Email'][df_1['Email'].str.contains('[(@)(.+)]$',na=False)].unique()"
   ]
  },
  {
   "cell_type": "code",
   "execution_count": 39,
   "metadata": {},
   "outputs": [],
   "source": [
    "# выводим \n",
    "df_1['Email'][df_1['Email'].str.contains(\"^[^@]*$\",na=False,regex=True)]"
   ]
  },
  {
   "cell_type": "markdown",
   "metadata": {},
   "source": [
    "### EmailЛичный"
   ]
  },
  {
   "cell_type": "code",
   "execution_count": 13,
   "metadata": {},
   "outputs": [
    {
     "data": {
      "text/plain": [
       "Комплекс                      0\n",
       "ОИВ                           0\n",
       "Организация                   0\n",
       "ИННорг                        0\n",
       "ФИО                           1\n",
       "СНИЛС                       609\n",
       "ДР                           16\n",
       "Должность                     6\n",
       "ВидЗанятости                 41\n",
       "ТипДУЛ                      540\n",
       "Документ_Серия             6382\n",
       "Документ_Номер              629\n",
       "ДатаВыдачи                  826\n",
       "ТелМобильный              20694\n",
       "Номер_телефонаРабочий    210699\n",
       "Email                     36901\n",
       "EmailЛичный              494616\n",
       "dtype: int64"
      ]
     },
     "execution_count": 13,
     "metadata": {},
     "output_type": "execute_result"
    }
   ],
   "source": [
    "# показывает NaN(количество пропущенных значений) по колонкам\n",
    "len(df_1)-df_1.count()"
   ]
  },
  {
   "cell_type": "code",
   "execution_count": 21,
   "metadata": {},
   "outputs": [
    {
     "name": "stdout",
     "output_type": "stream",
     "text": [
      "494616\n"
     ]
    }
   ],
   "source": [
    "# показывает NaN(количество пропущенных значений) по колонкам\n",
    "print(f'{colich}')"
   ]
  },
  {
   "cell_type": "code",
   "execution_count": 14,
   "metadata": {},
   "outputs": [
    {
     "name": "stdout",
     "output_type": "stream",
     "text": [
      "96.46 %\n"
     ]
    }
   ],
   "source": [
    "# Количество пропущенных значений (в процентах)\n",
    "print(f'{proc}' + ' %')"
   ]
  },
  {
   "cell_type": "code",
   "execution_count": 416,
   "metadata": {},
   "outputs": [
    {
     "data": {
      "text/plain": [
       "4591"
      ]
     },
     "execution_count": 416,
     "metadata": {},
     "output_type": "execute_result"
    }
   ],
   "source": [
    "# выводим кол-во любых цифр в колонке\n",
    "df_1['EmailЛичный'][df_1['EmailЛичный'].str.contains('[0-9]+',na=False)].nunique()"
   ]
  },
  {
   "cell_type": "code",
   "execution_count": 40,
   "metadata": {},
   "outputs": [],
   "source": [
    "# выводим любые цифры в колонке\n",
    "df_1['EmailЛичный'][df_1['EmailЛичный'].str.contains('[0-9]+',na=False)].head(2)"
   ]
  },
  {
   "cell_type": "code",
   "execution_count": 417,
   "metadata": {},
   "outputs": [
    {
     "data": {
      "text/plain": [
       "10154"
      ]
     },
     "execution_count": 417,
     "metadata": {},
     "output_type": "execute_result"
    }
   ],
   "source": [
    "# выводим все кроме цифр в колонке\n",
    "df_1['EmailЛичный'][df_1['EmailЛичный'].str.contains('[A-Za-zА-Яа-я]',na=False)].nunique()"
   ]
  },
  {
   "cell_type": "code",
   "execution_count": 28,
   "metadata": {},
   "outputs": [
    {
     "data": {
      "text/plain": [
       "7"
      ]
     },
     "execution_count": 28,
     "metadata": {},
     "output_type": "execute_result"
    }
   ],
   "source": [
    "# выводим все кроме \"@\" в колонке\n",
    "df_1['EmailЛичный'][df_1['EmailЛичный'].str.contains('^[^@]*$',na=False)].count()"
   ]
  },
  {
   "cell_type": "code",
   "execution_count": 41,
   "metadata": {},
   "outputs": [],
   "source": [
    "# выводим все кроме \"@\" в колонке\n",
    "df_1['EmailЛичный'][df_1['EmailЛичный'].str.contains('^[^@]*$',na=False)]"
   ]
  },
  {
   "cell_type": "code",
   "execution_count": 104,
   "metadata": {},
   "outputs": [
    {
     "data": {
      "text/plain": [
       "8"
      ]
     },
     "execution_count": 104,
     "metadata": {},
     "output_type": "execute_result"
    }
   ],
   "source": [
    "# выводим несколько символов после @ в колонке\n",
    "df_1['EmailЛичный'][df_1['EmailЛичный'].str.contains('¶',na=False)].count()"
   ]
  },
  {
   "cell_type": "code",
   "execution_count": 105,
   "metadata": {},
   "outputs": [
    {
     "data": {
      "text/plain": [
       "7"
      ]
     },
     "execution_count": 105,
     "metadata": {},
     "output_type": "execute_result"
    }
   ],
   "source": [
    "# выводим несколько символов после @ в колонке\n",
    "df_1['EmailЛичный'][df_1['EmailЛичный'].str.contains('¶',na=False)].nunique()"
   ]
  },
  {
   "cell_type": "code",
   "execution_count": 42,
   "metadata": {},
   "outputs": [],
   "source": [
    "# выводим несколько символов после @ в колонке\n",
    "df_1['EmailЛичный'][df_1['EmailЛичный'].str.contains('¶',na=False)].groupby(df_1['EmailЛичный']).count()"
   ]
  },
  {
   "cell_type": "code",
   "execution_count": 32,
   "metadata": {},
   "outputs": [
    {
     "data": {
      "text/plain": [
       "50"
      ]
     },
     "execution_count": 32,
     "metadata": {},
     "output_type": "execute_result"
    }
   ],
   "source": [
    "# выводим все одиночные символы(в един виде) перед собакой в колонке\n",
    "df_1['EmailЛичный'][df_1['EmailЛичный'].str.contains('^\\W@',na=False)].count()"
   ]
  },
  {
   "cell_type": "code",
   "execution_count": 7,
   "metadata": {},
   "outputs": [
    {
     "data": {
      "text/plain": [
       "5"
      ]
     },
     "execution_count": 7,
     "metadata": {},
     "output_type": "execute_result"
    }
   ],
   "source": [
    "# выводим все одиночные символы(в един виде) перед собакой в колонке кол-во уникальных\n",
    "df_1['EmailЛичный'][df_1['EmailЛичный'].str.contains('^\\W@',na=False)].nunique()"
   ]
  },
  {
   "cell_type": "code",
   "execution_count": 12,
   "metadata": {},
   "outputs": [
    {
     "data": {
      "text/plain": [
       "array(['!@1.ru', '.@mail.ru', '.@.mail.ru', '.@gmail.com', '.@mge.mos.ru'],\n",
       "      dtype=object)"
      ]
     },
     "execution_count": 12,
     "metadata": {},
     "output_type": "execute_result"
    }
   ],
   "source": [
    "# выводим все одиночные символы(в един виде) перед собакой в колонке уникальных\n",
    "df_1['EmailЛичный'][df_1['EmailЛичный'].str.contains('^\\W@',na=False)].unique()"
   ]
  },
  {
   "cell_type": "code",
   "execution_count": 34,
   "metadata": {},
   "outputs": [
    {
     "data": {
      "text/plain": [
       "79"
      ]
     },
     "execution_count": 34,
     "metadata": {},
     "output_type": "execute_result"
    }
   ],
   "source": [
    "# выводим все кроме цифр в колонке\n",
    "df_1['EmailЛичный'][df_1['EmailЛичный'].str.contains('^\\w@',na=False)].nunique()"
   ]
  },
  {
   "cell_type": "code",
   "execution_count": 43,
   "metadata": {},
   "outputs": [],
   "source": [
    "# выводим все строчные и цифры(в един виде) перед собакой в колонке\n",
    "df_1['EmailЛичный'][df_1['EmailЛичный'].str.contains('^\\w@',na=False)].unique()"
   ]
  },
  {
   "cell_type": "code",
   "execution_count": 41,
   "metadata": {},
   "outputs": [
    {
     "data": {
      "text/plain": [
       "66"
      ]
     },
     "execution_count": 41,
     "metadata": {},
     "output_type": "execute_result"
    }
   ],
   "source": [
    "# выводим все пробелы в колонке\n",
    "df_1['EmailЛичный'][df_1['EmailЛичный'].str.contains(' ',na=False)].count()"
   ]
  },
  {
   "cell_type": "code",
   "execution_count": 39,
   "metadata": {},
   "outputs": [
    {
     "data": {
      "text/plain": [
       "60"
      ]
     },
     "execution_count": 39,
     "metadata": {},
     "output_type": "execute_result"
    }
   ],
   "source": [
    "# выводим все пробелы в колонке\n",
    "df_1['EmailЛичный'][df_1['EmailЛичный'].str.contains(' ',na=False)].nunique()"
   ]
  },
  {
   "cell_type": "code",
   "execution_count": 44,
   "metadata": {
    "scrolled": true
   },
   "outputs": [],
   "source": [
    "# выводим все пробелы в колонке\n",
    "df_1['EmailЛичный'][df_1['EmailЛичный'].str.contains(' ',na=False)]"
   ]
  },
  {
   "cell_type": "code",
   "execution_count": 45,
   "metadata": {},
   "outputs": [],
   "source": [
    "# выводим несколько символов после @ в колонке\n",
    "df_1['EmailЛичный'][df_1['EmailЛичный'].str.contains('[(@)(\\W+)]$',na=False)].groupby(df_1['EmailЛичный']).count()"
   ]
  },
  {
   "cell_type": "code",
   "execution_count": 78,
   "metadata": {},
   "outputs": [
    {
     "data": {
      "text/plain": [
       "31"
      ]
     },
     "execution_count": 78,
     "metadata": {},
     "output_type": "execute_result"
    }
   ],
   "source": [
    "# выводим несколько символов после @ в колонке\n",
    "df_1['EmailЛичный'][df_1['EmailЛичный'].str.contains('[(@)(\\W+)]$',na=False)].count()"
   ]
  },
  {
   "cell_type": "code",
   "execution_count": 81,
   "metadata": {},
   "outputs": [
    {
     "data": {
      "text/plain": [
       "19"
      ]
     },
     "execution_count": 81,
     "metadata": {},
     "output_type": "execute_result"
    }
   ],
   "source": [
    "# выводим несколько символов после @ в колонке уникальных \n",
    "df_1['EmailЛичный'][df_1['EmailЛичный'].str.contains('[(@)(\\W+)]$',na=False)].nunique()"
   ]
  },
  {
   "cell_type": "code",
   "execution_count": 86,
   "metadata": {},
   "outputs": [
    {
     "name": "stdout",
     "output_type": "stream",
     "text": [
      "Кол-во пропущенных значений (в процентах) : 96.46 %\n",
      "Кол-во пропущенных значений : 494616\n",
      "Кол-во значений : 18134\n",
      "Кол-во значений без @ : 7\n",
      "Кол-во одиночныx символов(в един виде) перед собакой : 50\n",
      "Несколько символов после @ : 19\n",
      "Кол-во значений букв перед @ : 79\n",
      "Кол-во пробелов : 66\n"
     ]
    }
   ],
   "source": [
    "colich = len(df_1['EmailЛичный'])-df_1['EmailЛичный'].count()\n",
    "proc = round((len(df_1['EmailЛичный']) - df_1['EmailЛичный'].count()) / len(df_1['EmailЛичный']) * 100, 2)\n",
    "without_dog = df_1['EmailЛичный'][df_1['EmailЛичный'].str.contains('^[^@]*$',na=False)].count()\n",
    "simbol_before = df_1['EmailЛичный'][df_1['EmailЛичный'].str.contains('^\\W@',na=False)].count()\n",
    "letters_before = df_1['EmailЛичный'][df_1['EmailЛичный'].str.contains('^\\w@',na=False)].nunique()\n",
    "space = df_1['EmailЛичный'][df_1['EmailЛичный'].str.contains(' ',na=False)].count()\n",
    "simbol_after = df_1['EmailЛичный'][df_1['EmailЛичный'].str.contains('[(@)(.+)]$',na=False)].count()\n",
    "\n",
    "print(f'Кол-во пропущенных значений (в процентах) : {proc}' + ' %')\n",
    "print(f'Кол-во пропущенных значений : {colich}')\n",
    "print(f'Кол-во значений : {df_1.count()[1] - colich}')\n",
    "print(f'Кол-во значений без @ : {without_dog}')\n",
    "print(f'Кол-во одиночныx символов(в един виде) перед собакой : {simbol_before}')\n",
    "print(f'Несколько символов после @ : {simbol_after}')\n",
    "print(f'Кол-во значений букв перед @ : {letters_before}')\n",
    "print(f'Кол-во пробелов : {space}')"
   ]
  }
 ],
 "metadata": {
  "kernelspec": {
   "display_name": "Python 3",
   "language": "python",
   "name": "python3"
  },
  "language_info": {
   "codemirror_mode": {
    "name": "ipython",
    "version": 3
   },
   "file_extension": ".py",
   "mimetype": "text/x-python",
   "name": "python",
   "nbconvert_exporter": "python",
   "pygments_lexer": "ipython3",
   "version": "3.6.10"
  }
 },
 "nbformat": 4,
 "nbformat_minor": 5
}

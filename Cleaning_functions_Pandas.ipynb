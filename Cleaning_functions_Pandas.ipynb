{
 "cells": [
  {
   "cell_type": "code",
   "execution_count": 81,
   "metadata": {},
   "outputs": [],
   "source": [
    "# Импортируем библиотеки\n",
    "import numpy as np # библиотека для работы с числами(математические вычисления)\n",
    "import pandas as pd # библиотека для работы с таблицами\n",
    "import xlsxwriter\n",
    "# import pylab, math"
   ]
  },
  {
   "cell_type": "code",
   "execution_count": 82,
   "metadata": {},
   "outputs": [],
   "source": [
    "#!pip install openpyxl "
   ]
  },
  {
   "cell_type": "code",
   "execution_count": 83,
   "metadata": {},
   "outputs": [],
   "source": [
    "# Документация serias\n",
    "# https://pandas.pydata.org/pandas-docs/stable/reference/series.html"
   ]
  },
  {
   "cell_type": "code",
   "execution_count": 97,
   "metadata": {},
   "outputs": [],
   "source": [
    "# Загружаем данные из таблицы Excel\n",
    "df = pd.read_excel(\"file.xlsx\")"
   ]
  },
  {
   "cell_type": "code",
   "execution_count": 117,
   "metadata": {},
   "outputs": [],
   "source": [
    "# Смотрим таблицу(первые пять строк)\n",
    "df.head(3)"
   ]
  },
  {
   "cell_type": "markdown",
   "metadata": {},
   "source": [
    "## Анализ данных"
   ]
  },
  {
   "cell_type": "code",
   "execution_count": 99,
   "metadata": {},
   "outputs": [
    {
     "data": {
      "text/html": [
       "<div>\n",
       "<style scoped>\n",
       "    .dataframe tbody tr th:only-of-type {\n",
       "        vertical-align: middle;\n",
       "    }\n",
       "\n",
       "    .dataframe tbody tr th {\n",
       "        vertical-align: top;\n",
       "    }\n",
       "\n",
       "    .dataframe thead th {\n",
       "        text-align: right;\n",
       "    }\n",
       "</style>\n",
       "<table border=\"1\" class=\"dataframe\">\n",
       "  <thead>\n",
       "    <tr style=\"text-align: right;\">\n",
       "      <th></th>\n",
       "      <th>ИННорг</th>\n",
       "    </tr>\n",
       "  </thead>\n",
       "  <tbody>\n",
       "    <tr>\n",
       "      <th>count</th>\n",
       "      <td>2.447600e+04</td>\n",
       "    </tr>\n",
       "    <tr>\n",
       "      <th>mean</th>\n",
       "      <td>7.719822e+09</td>\n",
       "    </tr>\n",
       "    <tr>\n",
       "      <th>std</th>\n",
       "      <td>1.040147e+08</td>\n",
       "    </tr>\n",
       "    <tr>\n",
       "      <th>min</th>\n",
       "      <td>7.701108e+09</td>\n",
       "    </tr>\n",
       "    <tr>\n",
       "      <th>25%</th>\n",
       "      <td>7.705032e+09</td>\n",
       "    </tr>\n",
       "    <tr>\n",
       "      <th>50%</th>\n",
       "      <td>7.710475e+09</td>\n",
       "    </tr>\n",
       "    <tr>\n",
       "      <th>75%</th>\n",
       "      <td>7.723324e+09</td>\n",
       "    </tr>\n",
       "    <tr>\n",
       "      <th>max</th>\n",
       "      <td>9.710069e+09</td>\n",
       "    </tr>\n",
       "  </tbody>\n",
       "</table>\n",
       "</div>"
      ],
      "text/plain": [
       "             ИННорг\n",
       "count  2.447600e+04\n",
       "mean   7.719822e+09\n",
       "std    1.040147e+08\n",
       "min    7.701108e+09\n",
       "25%    7.705032e+09\n",
       "50%    7.710475e+09\n",
       "75%    7.723324e+09\n",
       "max    9.710069e+09"
      ]
     },
     "execution_count": 99,
     "metadata": {},
     "output_type": "execute_result"
    }
   ],
   "source": [
    "# просмотр мин, сред, мах значений по колонкам c типом int\n",
    "df.describe()"
   ]
  },
  {
   "cell_type": "code",
   "execution_count": 100,
   "metadata": {},
   "outputs": [
    {
     "data": {
      "text/plain": [
       "(24476, 18)"
      ]
     },
     "execution_count": 100,
     "metadata": {},
     "output_type": "execute_result"
    }
   ],
   "source": [
    "# Информация кол-во строк и колонок\n",
    "df.shape"
   ]
  },
  {
   "cell_type": "code",
   "execution_count": 1,
   "metadata": {},
   "outputs": [],
   "source": [
    "# Общая информация\n",
    "df.info()"
   ]
  },
  {
   "cell_type": "code",
   "execution_count": 2,
   "metadata": {},
   "outputs": [],
   "source": [
    "# Выводим типы данных\n",
    "df.dtypes"
   ]
  },
  {
   "cell_type": "code",
   "execution_count": 3,
   "metadata": {},
   "outputs": [],
   "source": [
    "# показывает NaN(количество пропущенных значений) по колонкам\n",
    "len(df)-df.count()"
   ]
  },
  {
   "cell_type": "code",
   "execution_count": 4,
   "metadata": {
    "scrolled": true
   },
   "outputs": [],
   "source": [
    "# Количество пропущенных значений (в процентах)\n",
    "round((len(df) - df.count()) / len(df) * 100, 2)#.sort_values(ascending=False)"
   ]
  },
  {
   "cell_type": "markdown",
   "metadata": {},
   "source": [
    "### Подготовка"
   ]
  },
  {
   "cell_type": "code",
   "execution_count": 105,
   "metadata": {},
   "outputs": [
    {
     "data": {
      "text/plain": [
       "18"
      ]
     },
     "execution_count": 105,
     "metadata": {},
     "output_type": "execute_result"
    }
   ],
   "source": [
    "len(df.columns)"
   ]
  },
  {
   "cell_type": "code",
   "execution_count": 106,
   "metadata": {},
   "outputs": [],
   "source": [
    "col_0 = df.columns[0]\n",
    "col_1 = df.columns[1]\n",
    "col_2 = df.columns[2]\n",
    "col_3 = df.columns[3]\n",
    "col_4 = df.columns[4]\n",
    "col_5 = df.columns[5]\n",
    "col_6 = df.columns[6]\n",
    "col_7 = df.columns[7]\n",
    "col_8 = df.columns[8]\n",
    "col_9 = df.columns[9]\n",
    "col_10 = df.columns[10]\n",
    "col_11 = df.columns[11]\n",
    "col_12 = df.columns[12]\n",
    "col_13 = df.columns[13]\n",
    "col_14 = df.columns[14]\n",
    "col_15 = df.columns[15]\n",
    "col_16 = df.columns[16]\n",
    "col_17 = df.columns[17]\n",
    "# df_col_18 = df.columns[18]\n",
    "# df_col_19 = df.columns[19]"
   ]
  },
  {
   "cell_type": "code",
   "execution_count": 5,
   "metadata": {},
   "outputs": [],
   "source": [
    "# для проверки номера столбца\n",
    "def numering(df):\n",
    "    n = 0\n",
    "    for i in df.columns:\n",
    "        if n < len(df.columns):\n",
    "            print(f' сol_{n}'+' : '+f'{i}')\n",
    "        n = n+1\n",
    "        \n",
    "numering(df_1)"
   ]
  },
  {
   "cell_type": "markdown",
   "metadata": {},
   "source": [
    "### Функции"
   ]
  },
  {
   "cell_type": "code",
   "execution_count": null,
   "metadata": {},
   "outputs": [],
   "source": [
    "# Ищем аномалии в данных\n",
    "def looking_for_anomalies(df,column):\n",
    "    print(f\"Кол-во значений в колонке : {df_1[column].count()}\")\n",
    "    print(f\"Кол-во уникальных значений : {df[column].nunique()}\")\n",
    "    print(f\"Кол-во значений NaN : {len(df_1[column])-df_1[column].count()}\")\n",
    "    print(f\"Кол-во в начале строки пробелов : {df_1[column][df_1[column].str.contains('^ ',na=False)].count()}\")\n",
    "    print(f\"Кол-во значений уникальных ^ пробелы : {df_1[column][df_1[column].str.contains('^ ',na=False)].nunique()}\")\n",
    "    print(f\"Кол-во значений пробелы в конце строки : {df_1[column][df_1[column].str.contains(' $',na=False)].count()}\")\n",
    "    print(f\"Кол-во значений уникальных $ пробелов : {df_1[column][df_1[column].str.contains(' $',na=False)].nunique()}\")\n",
    "\n",
    "looking_for_anomalies(df,col_0)"
   ]
  },
  {
   "cell_type": "code",
   "execution_count": null,
   "metadata": {},
   "outputs": [],
   "source": [
    "# Ищем отдельно буквы или цифры в данных\n",
    "def check_letter_and_number(df,column):\n",
    "    print(f\"Кол-во уникальных значений: {df[column].nunique()}\")\n",
    "    print(f\"Кол-во значений NaN: {len(df[column])-df[column].count()}\")\n",
    "    print(f\"Кол-во с буквами : {df[column][df[column].str.contains('[A-Za-zА-Яа-я]',na=False)].count()}\")\n",
    "    print(f\"Кол-во уникальных с буквами : {df[column][df[column].str.contains('[A-Za-zА-Яа-я]',na=False)].nunique()}\")\n",
    "    print(f\"Кол-во с цифрами : {df[column][df[column].str.contains('[0-9]',na=False)].count()}\")\n",
    "    print(f\"Кол-во уникальных с цифрами : {df[column][df[column].str.contains('[0-9]',na=False)].nunique()}\")\n",
    "    print(f\"Кол-во только символы в строке: {df[column][df[column].str.contains('^[^0-9][^A-Za-zА-Яа-я]*$',na=False)].count()}\")\n",
    "    print(f\"Кол-во уникальных только символы в строке: {df[column][df[column].str.contains('^[^0-9][^A-Za-zА-Яа-я]*$',na=False)].nunique()}\")\n",
    "    \n",
    "check_letter_and_number(df,col_0)"
   ]
  },
  {
   "cell_type": "code",
   "execution_count": null,
   "metadata": {},
   "outputs": [],
   "source": [
    "# Проверяем аномалии в почте\n",
    "def email_anomalies(df,column):\n",
    "    # Кол-во до двух знаков перед знаком \"@\"\n",
    "    before_dot = df[column][df[column].str.contains('^[\\w|\\W]{0,2}@',na=False)].count()\n",
    "    # Кол-во уникальных до двух знаков перед знаком \"@\"\n",
    "    before_dot_unique = df[column][df[column].str.contains('^[\\w|\\W]{0,2}@',na=False)].nunique()\n",
    "    # Кол-во кириллицы до знаком \"@\"\n",
    "    kirillica = df[column][df[column].str.contains('^[А-Яа-я]{0,}@',na=False)].count()\n",
    "    # Кол-во уникальных кириллицы до знаком \"@\"\n",
    "    kirillica_unique = df[column][df[column].str.contains('^[А-Яа-я]{0,}@',na=False)].nunique()\n",
    "    # Кол-во кириллицы до @yandex.ru, @mail.ru, @gmail.ru\n",
    "    kirillica_all = df[column][df[column].str.contains('^[А-Яа-я]{0,}@yandex.ru|^[А-Яа-я]{0,}@mail.ru|^[А-Яа-я]{0,}@gmail.ru',na=False)].count()\n",
    "    # Кол-во уникальных кириллицы до @yandex.ru, @mail.ru, @gmail.ru\n",
    "    kirillica_all_unique = df[column][df[column].str.contains('^[А-Яа-я]{0,}@yandex.ru|^[А-Яа-я]{0,}@mail.ru|^[А-Яа-я]{0,}@gmail.ru',na=False)].nunique()\n",
    "    # Кол-во не допустимых с доменов yandex.ru\n",
    "    yandex = df[column][df[column].str.contains('^[0-9]@yandex.ru',na=False)].count()\n",
    "    # Кол-во уникальных не допустимых с доменов yandex.ru\n",
    "    yandex_unic = df[column][df[column].str.contains('^[0-9]@yandex.ru',na=False)].nunique()\n",
    "    # Кол-во не допустимых с доменом mail.ru\n",
    "    mail = df[column][df[column].str.contains('^[\\w|\\W]{1,4}@mail.ru',na=False)].count()\n",
    "    # Кол-во уникальных не допустимых с доменов mail.ru\n",
    "    mail_unic = df[column][df[column].str.contains('^[\\w|\\W]{1,4}@mail.ru',na=False)].nunique()\n",
    "    # Кол-во не допустимых с доменов gmail.ru\n",
    "    gmail = df[column][df[column].str.contains('^[\\w|\\W]{1,6}@gmail.ru',na=False)].count()\n",
    "    # Кол-во уникальных не допустимых с доменов gmail.ru\n",
    "    gmail_unic = df[column][df[column].str.contains('^[\\w|\\W]{1,6}@gmail.ru',na=False)].nunique()\n",
    "    \n",
    "    \n",
    "    print(f\"Кол-во значений NaN: {len(df[column])-df[column].count()}\")\n",
    "    print(f\"Кол-во почт без знака '@'(без NaN) : {df[column][df[column].str.contains('^[^@]*$',na=False)].count()}\")\n",
    "    print(f\"Кол-во уникальных почт без знака '@' : {df[column][df[column].str.contains('^[^@]*$',na=False)].nunique()}\")\n",
    "    print(f\"Кол-во до двух знаков(символов) перед знаком '@' : {before_dot}\")\n",
    "    print(f\"Кол-во уникальных до двух знаков(символов) перед знаком '@' : {before_dot_unique}\")\n",
    "    print(f\"Кол-во кириллицы до знака '@' : {kirillica}\")\n",
    "    print(f\"Кол-во уникальных кириллицы до знака '@' : {kirillica_unique}\")\n",
    "    print(f\"Кол-во кириллицы до @yandex.ru, @mail.ru, @gmail.ru : {kirillica_all}\")\n",
    "    print(f\"Кол-во уникальных кириллицы до @yandex.ru, @mail.ru, @gmail.ru : {kirillica_all_unique}\")\n",
    "    print(f\"Кол-во не допустимых с доменом yandex.ru : {yandex}\")\n",
    "    print(f\"Кол-во уникальных не допустимых с доменом yandex.ru : {yandex_unic}\")\n",
    "    print(f\"Кол-во не допустимых с доменом mail.ru : {mail}\")\n",
    "    print(f\"Кол-во уникальных не допустимых с доменом mail.ru : {mail_unic}\")\n",
    "    print(f\"Кол-во не допустимых с доменом gmail.ru : {gmail}\")\n",
    "    print(f\"Кол-во уникальных не допустимых с доменом gmail.ru : {gmail_unic}\")\n",
    "    \n",
    "email_anomalies(df,col_15)"
   ]
  },
  {
   "cell_type": "code",
   "execution_count": null,
   "metadata": {},
   "outputs": [],
   "source": [
    "def check_phones(df,column):\n",
    "    \n",
    "    print(f\"Кол-во значений NaN: {len(df[column])-df[column].count()}\")\n",
    "    print(f\"Кол-во значений с цифрами: {df_1[column][df_1[column].str.contains('^[0-9]+',na=False)].count()}\")\n",
    "    print(f\"Кол-во уникальных значений с цифрами: {df_1[column][df_1[column].str.contains('^[0-9]+',na=False)].nunique()}\")\n",
    "    print(f\"Кол-во тел. не соответствуют ^+ : {df_1[column][df_1[column].str.contains('^[^+]',na=False)].count()}\")\n",
    "    print(f\"Кол-во уникальных не соответствуют ^+ : {df_1[column][df_1[column].str.contains('^[^+]',na=False)].nunique()}\")\n",
    "    print(f\"Кол-во номеров с буквами : {df_1[column][df_1[column].str.contains('[A-Za-zА-Яа-я]',na=False)].count()}\")\n",
    "    print(f\"Кол-во уникальных номеров с буквами : {df_1[column][df_1[column].str.contains('[A-Za-zА-Яа-я]',na=False)].nunique()}\")\n",
    "    print(f\"Кол-во номеров с символами : {df_1[column][df_1[column].str.contains('^[^+]*$',na=False)].count()}\")\n",
    "    print(f\"Кол-во уникальных с символами : {df_1[column][df_1[column].str.contains('^[^+]*$',na=False)].nunique()}\")\n",
    "    \n",
    "check_phones(df_1,col_14)"
   ]
  },
  {
   "cell_type": "code",
   "execution_count": null,
   "metadata": {},
   "outputs": [],
   "source": []
  },
  {
   "cell_type": "markdown",
   "metadata": {},
   "source": [
    "### Смотрим колонки"
   ]
  },
  {
   "cell_type": "markdown",
   "metadata": {},
   "source": [
    "# <font color=\"red\">!!!!!!!</font>"
   ]
  },
  {
   "cell_type": "code",
   "execution_count": null,
   "metadata": {},
   "outputs": [],
   "source": [
    "# Количество пропущенных значений (в процентах)\n",
    "proc = round((len(df) - df.count()) / len(df) * 100, 2)\n",
    "print(f'{proc}' + ' %')"
   ]
  },
  {
   "cell_type": "code",
   "execution_count": null,
   "metadata": {},
   "outputs": [],
   "source": [
    "# выводим любые цифры в колонке\n",
    "df[df_col_0][df[df_col_0].str.contains('[0-9]+',na=False)].unique() # .nunique() .count() .head()"
   ]
  },
  {
   "cell_type": "code",
   "execution_count": null,
   "metadata": {},
   "outputs": [],
   "source": [
    "# выводим любые строчные в колонке\n",
    "df[df_col_0][df[df_col_0].str.contains('[A-Za-zА-Яа-я]',na=False)].unique() # .nunique() .count() .head()"
   ]
  },
  {
   "cell_type": "code",
   "execution_count": null,
   "metadata": {},
   "outputs": [],
   "source": [
    "# выводим любые строчные без цифр в колонке\n",
    "df[df_col_0][df[df_col_0].str.contains('[^0-9][A-Za-zА-Яа-я]',na=False)].unique()  # .nunique() .count() .head()"
   ]
  },
  {
   "cell_type": "code",
   "execution_count": null,
   "metadata": {},
   "outputs": [],
   "source": [
    "# выводим без строчных и цифр в колонке\n",
    "df[df_col_0][df[df_col_0].str.contains('[^0-9A-Za-zА-Яа-я]',na=False)].unique()  # .nunique() .count() .head()"
   ]
  },
  {
   "cell_type": "code",
   "execution_count": null,
   "metadata": {},
   "outputs": [],
   "source": [
    "# показывает NaN(количество пропущенных значений) по колонкам\n",
    "len(df[df_col_0])-df[df_col_0].count() "
   ]
  },
  {
   "cell_type": "code",
   "execution_count": null,
   "metadata": {},
   "outputs": [],
   "source": [
    "# выводим пробел в начале строки в колонке\n",
    "df[df_col_0][df[df_col_0].str.contains('^ ',na=False, regex=True)]"
   ]
  },
  {
   "cell_type": "code",
   "execution_count": null,
   "metadata": {},
   "outputs": [],
   "source": [
    "# выводим пробел в колонке\n",
    "df[df_col_0][df[df_col_0].str.contains('[ ]',na=False)].unique()  # .nunique() .count() .head()"
   ]
  },
  {
   "cell_type": "code",
   "execution_count": null,
   "metadata": {},
   "outputs": [],
   "source": [
    "# поиск данных по принципу like в SQL\n",
    "# без цифр два тире по счету в строке\n",
    "df[df_col_0][df[df_col_0].str.contains('[^0-9][- -]{2}', na=False)].head(3)"
   ]
  },
  {
   "cell_type": "code",
   "execution_count": null,
   "metadata": {},
   "outputs": [],
   "source": [
    "# выводим nan таблицу\n",
    "df[df[df_col_0].isnull()].head(2) # .nunique() .count() .head()"
   ]
  },
  {
   "cell_type": "code",
   "execution_count": null,
   "metadata": {},
   "outputs": [],
   "source": [
    "# выводим nan колонку\n",
    "df[df_col_0].loc[df[df_col_0].isnull()].head(5) # .nunique() .count() .head()"
   ]
  },
  {
   "cell_type": "code",
   "execution_count": null,
   "metadata": {},
   "outputs": [],
   "source": [
    "# выводим все строки с 'доб.'\n",
    "df[df_col_0][df[df_col_0].str.contains('доб.',na=False)].nunique()"
   ]
  },
  {
   "cell_type": "code",
   "execution_count": null,
   "metadata": {},
   "outputs": [],
   "source": [
    "# Выводим похожие совпадения на \"повар\"\n",
    "df[df_col_0][(df[df_col_0].str.contains('повар',na=False,case=False))].nunique() # .nunique() .count() .head()"
   ]
  },
  {
   "cell_type": "markdown",
   "metadata": {},
   "source": [
    "### мобильный"
   ]
  },
  {
   "cell_type": "code",
   "execution_count": null,
   "metadata": {},
   "outputs": [],
   "source": [
    "# выводим  \n",
    "df_spark.select(df_col_15).filter(col(df_col_15).rlike(\"^[7]\")).distinct().show(6,False,True)"
   ]
  },
  {
   "cell_type": "code",
   "execution_count": null,
   "metadata": {},
   "outputs": [],
   "source": [
    "# выводим  \n",
    "df_spark.select(df_col_15).filter(col(df_col_15).rlike(\"^[+]\")).distinct().show(6,False,True)"
   ]
  },
  {
   "cell_type": "code",
   "execution_count": null,
   "metadata": {},
   "outputs": [],
   "source": [
    "# выводим  \n",
    "df_spark.select(df_col_15).filter(col(df_col_15).rlike(\"^[8]\")).distinct().show(6,False,True)"
   ]
  },
  {
   "cell_type": "code",
   "execution_count": null,
   "metadata": {},
   "outputs": [],
   "source": [
    "# выводим  \n",
    "df_spark.select(df_col_15).filter(col(df_col_15).rlike(\"^[ ]\")).distinct().show(6,False,True)"
   ]
  },
  {
   "cell_type": "code",
   "execution_count": null,
   "metadata": {},
   "outputs": [],
   "source": [
    "# выводим любые строчные в колонке с уникальными значениями\n",
    "df_spark.select(df_col_15).filter(col(df_col_15).rlike(\"[A-Za-zА-Яа-я]\")).distinct().show(7,False,True)"
   ]
  },
  {
   "cell_type": "code",
   "execution_count": null,
   "metadata": {},
   "outputs": [],
   "source": [
    "# выводим \"жена\" в колонке уникальными значениями\n",
    "df_spark.select(df_col_15,'ФИО','Должность').filter(col(df_col_15).rlike(\"жена\")).distinct().show(5,False,True)"
   ]
  },
  {
   "cell_type": "markdown",
   "metadata": {},
   "source": [
    "### работа с email"
   ]
  },
  {
   "cell_type": "markdown",
   "metadata": {},
   "source": [
    "В данном случае email 16 и 17 колонки"
   ]
  },
  {
   "cell_type": "code",
   "execution_count": null,
   "metadata": {},
   "outputs": [],
   "source": [
    "# выводим все строчки без собаки в колонке\n",
    "df[df_col_17][df[df_col_17].str.contains('^[^@]$',na=False)]  # .nunique() .count() .head()\n",
    "df[df_col_17][df[df_col_17].str.contains(\"^[^@]*$\",na=False,regex=True)]"
   ]
  },
  {
   "cell_type": "code",
   "execution_count": null,
   "metadata": {},
   "outputs": [],
   "source": [
    "# выводим '¶' символ в колонке\n",
    "df[df_col_17][df[df_col_17].str.contains('¶',na=False)].count()"
   ]
  },
  {
   "cell_type": "code",
   "execution_count": null,
   "metadata": {},
   "outputs": [],
   "source": [
    "# выводим сгрупированные данные с подчетом уникальных значений\n",
    "df[df_col_17][df[df_col_17].str.contains('¶',na=False)].groupby(df_1[df_col_17]).count().head()"
   ]
  },
  {
   "cell_type": "code",
   "execution_count": null,
   "metadata": {},
   "outputs": [],
   "source": [
    "# выводим все символы перед собакой '@'\n",
    "df[df_col_17][df[df_col_17].str.contains('^\\W@',na=False)].count() # .nunique() .count() .head()"
   ]
  },
  {
   "cell_type": "code",
   "execution_count": null,
   "metadata": {},
   "outputs": [],
   "source": [
    "# выводим все прописные и буквы перед собакой '@'\n",
    "df[df_col_17][df[df_col_17].str.contains('^\\w@',na=False)].count() # .nunique() .count() .head()"
   ]
  },
  {
   "cell_type": "code",
   "execution_count": null,
   "metadata": {},
   "outputs": [],
   "source": [
    "# выводим все пробелы в колонке\n",
    "df[df_col_17][df[df_col_17].str.contains(' ',na=False)]"
   ]
  },
  {
   "cell_type": "code",
   "execution_count": null,
   "metadata": {},
   "outputs": [],
   "source": [
    "# выводим несколько точек после собаки\n",
    "df[df_col_17][df[df_col_17].str.contains('[(@)(.+)]$',na=False)].unique() # .nunique() .count() .head()"
   ]
  },
  {
   "cell_type": "code",
   "execution_count": null,
   "metadata": {},
   "outputs": [],
   "source": [
    "# выводим несколько символов после @ в колонке\n",
    "df[df_col_17][df[df_col_17].str.contains('[(@)(\\W+)]$',na=False)].groupby(df_1[df_col_17]).unique() # .nunique() .count() .head()"
   ]
  },
  {
   "cell_type": "code",
   "execution_count": null,
   "metadata": {},
   "outputs": [],
   "source": []
  },
  {
   "cell_type": "code",
   "execution_count": null,
   "metadata": {},
   "outputs": [],
   "source": []
  },
  {
   "cell_type": "code",
   "execution_count": 6,
   "metadata": {},
   "outputs": [],
   "source": [
    "#df.info()"
   ]
  },
  {
   "cell_type": "code",
   "execution_count": 86,
   "metadata": {},
   "outputs": [
    {
     "name": "stdout",
     "output_type": "stream",
     "text": [
      "Кол-во пропущенных значений (в процентах) : 96.46 %\n",
      "Кол-во пропущенных значений : 494616\n",
      "Кол-во значений : 18134\n",
      "Кол-во значений без @ : 7\n",
      "Кол-во одиночныx символов(в един виде) перед собакой : 50\n",
      "Несколько символов после @ : 19\n",
      "Кол-во значений букв перед @ : 79\n",
      "Кол-во пробелов : 66\n"
     ]
    }
   ],
   "source": [
    "colich = len(df_1['EmailЛичный'])-df_1['EmailЛичный'].count()\n",
    "proc = round((len(df_1['EmailЛичный']) - df_1['EmailЛичный'].count()) / len(df_1['EmailЛичный']) * 100, 2)\n",
    "without_dog = df_1['EmailЛичный'][df_1['EmailЛичный'].str.contains('^[^@]*$',na=False)].count()\n",
    "simbol_before = df_1['EmailЛичный'][df_1['EmailЛичный'].str.contains('^\\W@',na=False)].count()\n",
    "letters_before = df_1['EmailЛичный'][df_1['EmailЛичный'].str.contains('^\\w@',na=False)].nunique()\n",
    "space = df_1['EmailЛичный'][df_1['EmailЛичный'].str.contains(' ',na=False)].count()\n",
    "simbol_after = df_1['EmailЛичный'][df_1['EmailЛичный'].str.contains('[(@)(.+)]$',na=False)].count()\n",
    "\n",
    "print(f'Кол-во пропущенных значений (в процентах) : {proc}' + ' %')\n",
    "print(f'Кол-во пропущенных значений : {colich}')\n",
    "print(f'Кол-во значений : {df_1.count()[1] - colich}')\n",
    "print(f'Кол-во значений без @ : {without_dog}')\n",
    "print(f'Кол-во одиночныx символов(в един виде) перед собакой : {simbol_before}')\n",
    "print(f'Несколько символов после @ : {simbol_after}')\n",
    "print(f'Кол-во значений букв перед @ : {letters_before}')\n",
    "print(f'Кол-во пробелов : {space}')"
   ]
  },
  {
   "cell_type": "markdown",
   "metadata": {},
   "source": [
    "(?i)(\\W|^)(туфта|проклятие|убирайся|бред|черт\\sвозьми|зараза)(\\W|$)\n",
    "\n",
    "Элемент (...) объединяет все слова, а класс символов \\W применяется ко всем словам в круглых скобках.\n",
    "\n",
    "(?i) делает выражение нечувствительным к регистру.\n",
    "\n",
    "\\W соответствует любому символу, кроме букв, цифр и знака подчеркивания. Этот элемент исключает из поиска символы в начале или конце слова или фразы из списка.\n",
    "\n",
    "^ соответствует началу новой строки. Этот элемент позволяет искать с помощью регулярного выражения слова, которые находятся в начале строки и перед которыми отсутствуют символы.\n",
    "\n",
    "$ соответствует окончанию строки. Этот элемент позволяет искать с помощью регулярного выражения слова, которые находятся в конце строки и после которых отсутствуют символы.\n",
    "\n",
    "Знак | соответствует оператору \"или\"; таким образом, регулярное выражение будет искать каждое слово из списка по отдельности.\n",
    "\n",
    "\\s соответствует пробелу. Этот символ используется для разделения слов в фразе."
   ]
  },
  {
   "cell_type": "code",
   "execution_count": null,
   "metadata": {},
   "outputs": [],
   "source": []
  },
  {
   "cell_type": "code",
   "execution_count": null,
   "metadata": {},
   "outputs": [],
   "source": []
  },
  {
   "cell_type": "code",
   "execution_count": null,
   "metadata": {},
   "outputs": [],
   "source": []
  },
  {
   "cell_type": "code",
   "execution_count": null,
   "metadata": {},
   "outputs": [],
   "source": []
  },
  {
   "cell_type": "code",
   "execution_count": null,
   "metadata": {},
   "outputs": [],
   "source": []
  },
  {
   "cell_type": "code",
   "execution_count": null,
   "metadata": {},
   "outputs": [],
   "source": []
  },
  {
   "cell_type": "code",
   "execution_count": null,
   "metadata": {},
   "outputs": [],
   "source": []
  },
  {
   "cell_type": "code",
   "execution_count": null,
   "metadata": {},
   "outputs": [],
   "source": []
  }
 ],
 "metadata": {
  "kernelspec": {
   "display_name": "Python 3",
   "language": "python",
   "name": "python3"
  },
  "language_info": {
   "codemirror_mode": {
    "name": "ipython",
    "version": 3
   },
   "file_extension": ".py",
   "mimetype": "text/x-python",
   "name": "python",
   "nbconvert_exporter": "python",
   "pygments_lexer": "ipython3",
   "version": "3.6.10"
  }
 },
 "nbformat": 4,
 "nbformat_minor": 5
}

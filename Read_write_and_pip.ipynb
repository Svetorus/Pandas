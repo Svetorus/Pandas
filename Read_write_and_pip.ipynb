{
  "cells": [
    {
      "cell_type": "markdown",
      "metadata": {
        "id": "view-in-github",
        "colab_type": "text"
      },
      "source": [
        "<a href=\"https://colab.research.google.com/github/Svetorus/Pandas/blob/main/Read_write_and_pip.ipynb\" target=\"_parent\"><img src=\"https://colab.research.google.com/assets/colab-badge.svg\" alt=\"Open In Colab\"/></a>"
      ]
    },
    {
      "cell_type": "code",
      "source": [
        "# Определить тип файловой системы\n",
        "import os\n",
        "os.system('uname -o')"
      ],
      "metadata": {
        "colab": {
          "base_uri": "https://localhost:8080/"
        },
        "id": "zXVhBoFvfRgP",
        "outputId": "830eb5d3-9e8d-44b2-fad0-74c87d81cbac"
      },
      "execution_count": 5,
      "outputs": [
        {
          "output_type": "execute_result",
          "data": {
            "text/plain": [
              "0"
            ]
          },
          "metadata": {},
          "execution_count": 5
        }
      ]
    },
    {
      "cell_type": "code",
      "source": [
        "# Определить тип файловой системы\n",
        "from sys import platform\n",
        "if platform == \"linux\" or platform == \"linux2\":\n",
        "    print(f'linux')\n",
        "elif platform == \"darwin\":\n",
        "    print(f'OS X')\n",
        "elif platform == \"win32\":\n",
        "    print(f'win32')"
      ],
      "metadata": {
        "colab": {
          "base_uri": "https://localhost:8080/"
        },
        "id": "vPycuDNKfTxt",
        "outputId": "e3e3232d-cb6a-4343-e9ad-770c428bdc76"
      },
      "execution_count": 6,
      "outputs": [
        {
          "output_type": "stream",
          "name": "stdout",
          "text": [
            "linux\n"
          ]
        }
      ]
    },
    {
      "cell_type": "code",
      "source": [
        "# В python текущую директорию можно узнать, выполнив команды:\n",
        "import os\n",
        "print(os.getcwd())"
      ],
      "metadata": {
        "colab": {
          "base_uri": "https://localhost:8080/"
        },
        "id": "fy4hIERzfzYn",
        "outputId": "e2ac11b4-5591-4e1f-91df-80933d444524"
      },
      "execution_count": 7,
      "outputs": [
        {
          "output_type": "stream",
          "name": "stdout",
          "text": [
            "/content\n"
          ]
        }
      ]
    },
    {
      "cell_type": "code",
      "source": [
        "# Поменять текущую директорию из Python можно так:\n",
        "import os\n",
        "os.chdir(r'\\\\Справочники\\Терминал')"
      ],
      "metadata": {
        "id": "Jf0redjofnbu"
      },
      "execution_count": null,
      "outputs": []
    },
    {
      "cell_type": "code",
      "source": [
        "# Прочитать файл из linux в папке windows \n",
        "# библиотека SAMBA\n",
        "import smbclient\n",
        "smbclient.ClientConfig(username='Name', password='password')\n",
        "with smbclient.open_file(r\"\\\\Справочники\\Терминал\\фаил.csv\", mode=\"r\", encoding='UTF-8') as fd:\n",
        "    res=fd.read()\n",
        "res = res.split('\\n')\n",
        "df =pd.DataFrame(res)\n",
        "df = df[0].str.split(';',expand=True)\n",
        "df.columns = df.iloc[0]\n",
        "df = df.drop(0, axis=0)\n",
        "df"
      ],
      "metadata": {
        "id": "wynwcjUGf9dX"
      },
      "execution_count": null,
      "outputs": []
    },
    {
      "cell_type": "markdown",
      "metadata": {
        "id": "-FmIxeDifLzh"
      },
      "source": [
        "# Чтение файлов\n",
        "Рассматриваем задачу сквозной аналитики. Будем работать с этими файлами:\n",
        "- visit_log.csv\n",
        "- purchase_log.txt"
      ]
    },
    {
      "cell_type": "markdown",
      "metadata": {
        "id": "ZIfOe1qifLzk"
      },
      "source": [
        "### Способ 1. Делаем все пошагово\n",
        "Опции при открытии файлов:\n",
        "- 'r' открыть для чтения. Файл при этом не меняется\n",
        "- 'w' открыть файл для записи. Файл при этом полностью чистится (!)\n",
        "- 'a' открыть файл для добавления. Файл не меняется, все записи добавляются в конец"
      ]
    },
    {
      "cell_type": "code",
      "execution_count": null,
      "metadata": {
        "id": "4tMQZsuTfLzl"
      },
      "outputs": [],
      "source": [
        "# открываем файл для чтения (опция r)\n",
        "f = open('visit_log.csv', 'r', encoding='utf-8')"
      ]
    },
    {
      "cell_type": "code",
      "execution_count": null,
      "metadata": {
        "id": "6Sk5W-EyfLzm",
        "outputId": "bcb0455a-9b8a-4409-c34e-3b23df844ab9"
      },
      "outputs": [
        {
          "data": {
            "text/plain": [
              "<_io.TextIOWrapper name='visit_log.csv' mode='r' encoding='utf-8'>"
            ]
          },
          "execution_count": 2,
          "metadata": {},
          "output_type": "execute_result"
        }
      ],
      "source": [
        "f"
      ]
    },
    {
      "cell_type": "code",
      "execution_count": null,
      "metadata": {
        "id": "CWsVL2-afLzn",
        "outputId": "81ed2df7-9760-4085-8e72-56da7ca2f841"
      },
      "outputs": [
        {
          "data": {
            "text/plain": [
              "192"
            ]
          },
          "execution_count": 3,
          "metadata": {},
          "output_type": "execute_result"
        }
      ],
      "source": [
        "f.__sizeof__()"
      ]
    },
    {
      "cell_type": "code",
      "execution_count": null,
      "metadata": {
        "scrolled": true,
        "id": "kZ7Xh6pefLzo",
        "outputId": "d1135a2d-abfd-46ce-8da5-5ccceef3a516"
      },
      "outputs": [
        {
          "data": {
            "text/plain": [
              "'user_id,source\\n'"
            ]
          },
          "execution_count": 18,
          "metadata": {},
          "output_type": "execute_result"
        }
      ],
      "source": [
        "# прочитать первую строчку\n",
        "f.readline()"
      ]
    },
    {
      "cell_type": "code",
      "execution_count": null,
      "metadata": {
        "id": "xEQlP5PqfLzo",
        "outputId": "1fe4798c-9a85-46ef-c477-2a97d2d8ed5b"
      },
      "outputs": [
        {
          "data": {
            "text/plain": [
              "'96064ae9e0,other\\n'"
            ]
          },
          "execution_count": 8,
          "metadata": {},
          "output_type": "execute_result"
        }
      ],
      "source": [
        "# прочитать еще одну\n",
        "f.readline()"
      ]
    },
    {
      "cell_type": "code",
      "execution_count": null,
      "metadata": {
        "id": "yJYsiAAkfLzp",
        "outputId": "4ac9c2fc-ccad-4fd2-ff44-d2a47da9150e"
      },
      "outputs": [
        {
          "data": {
            "text/plain": [
              "'6450655ae8,other\\n'"
            ]
          },
          "execution_count": 19,
          "metadata": {},
          "output_type": "execute_result"
        }
      ],
      "source": [
        "# можно и так\n",
        "next(f)"
      ]
    },
    {
      "cell_type": "code",
      "execution_count": null,
      "metadata": {
        "id": "wgCfyYL7fLzq"
      },
      "outputs": [],
      "source": [
        "# прочитать все содержимое файла в переменную content\n",
        "content = f.readlines()"
      ]
    },
    {
      "cell_type": "code",
      "execution_count": null,
      "metadata": {
        "id": "s7e2s94kfLzr",
        "outputId": "3efdc1be-7a93-4c88-d20c-fcc1e545eee9"
      },
      "outputs": [
        {
          "data": {
            "text/plain": [
              "['71bcf169b4,other\\n',\n",
              " 'e0aee73c5d,other\\n',\n",
              " '1f8845e157,context\\n',\n",
              " '78d22c5c78,other\\n',\n",
              " 'dd85040770,other\\n']"
            ]
          },
          "execution_count": 11,
          "metadata": {},
          "output_type": "execute_result"
        }
      ],
      "source": [
        "content[:5]"
      ]
    },
    {
      "cell_type": "code",
      "execution_count": null,
      "metadata": {
        "id": "M8SMEuD7fLzr",
        "outputId": "645d5178-1de5-49aa-a76d-df649e5a1a8b"
      },
      "outputs": [
        {
          "data": {
            "text/plain": [
              "'c23704ea54,other\\n'"
            ]
          },
          "execution_count": 12,
          "metadata": {},
          "output_type": "execute_result"
        }
      ],
      "source": [
        "content[-1]"
      ]
    },
    {
      "cell_type": "code",
      "execution_count": null,
      "metadata": {
        "id": "yTGdQxkGfLzr",
        "outputId": "000b861e-d481-4156-d4b5-0e96fd52cc21"
      },
      "outputs": [
        {
          "data": {
            "text/plain": [
              "0"
            ]
          },
          "execution_count": 13,
          "metadata": {},
          "output_type": "execute_result"
        }
      ],
      "source": [
        "f.seek(0)"
      ]
    },
    {
      "cell_type": "code",
      "execution_count": null,
      "metadata": {
        "scrolled": true,
        "id": "mKiRa4_dfLzs",
        "outputId": "5931725b-e899-407d-a8c5-a2271f8cb7c8"
      },
      "outputs": [
        {
          "data": {
            "text/plain": [
              "'user_id,source\\n'"
            ]
          },
          "execution_count": 14,
          "metadata": {},
          "output_type": "execute_result"
        }
      ],
      "source": [
        "f.readline()"
      ]
    },
    {
      "cell_type": "code",
      "execution_count": 9,
      "metadata": {
        "id": "nIVA5VBmfLzs"
      },
      "outputs": [],
      "source": [
        "# построчное чтение файла\n",
        "for line in f:\n",
        "    print(line)\n",
        "    \n",
        "    # break"
      ]
    },
    {
      "cell_type": "code",
      "execution_count": null,
      "metadata": {
        "scrolled": true,
        "id": "rjme8fUHfLzt",
        "outputId": "6ed13820-4581-4714-bae3-7e292fd9b4df"
      },
      "outputs": [
        {
          "name": "stdout",
          "output_type": "stream",
          "text": [
            "d94b908660,None\n",
            "\n",
            "f697206af5,other\n",
            "\n",
            "8a9a2de36e,other\n",
            "\n",
            "dd3d43c266,context\n",
            "\n",
            "f6401d302f,context\n",
            "\n",
            "b18d58560b,email\n",
            "\n"
          ]
        }
      ],
      "source": [
        "i = 0\n",
        "for line in f:\n",
        "    print(line)\n",
        "    \n",
        "    i += 1\n",
        "    if i > 5:\n",
        "        break"
      ]
    },
    {
      "cell_type": "code",
      "execution_count": null,
      "metadata": {
        "scrolled": true,
        "id": "fIszGWSHfLzt",
        "outputId": "0defc075-158a-4139-d15f-2f24b254b473"
      },
      "outputs": [
        {
          "name": "stdout",
          "output_type": "stream",
          "text": [
            "0 ed79586589,other\n",
            "\n",
            "1 1840e0b9d4,other\n",
            "\n",
            "2 b4afdc5ccc,other\n",
            "\n",
            "3 470248aabf,other\n",
            "\n",
            "4 948d9be43c,other\n",
            "\n",
            "5 03592d16ac,other\n",
            "\n",
            "6 8554e1a9f9,context\n",
            "\n"
          ]
        }
      ],
      "source": [
        "for i, line in enumerate(f):\n",
        "    print(i, line)\n",
        "    \n",
        "    if i > 5:\n",
        "        break"
      ]
    },
    {
      "cell_type": "markdown",
      "metadata": {
        "id": "T84elmnufLz4"
      },
      "source": [
        "Часто используется конструкция \n",
        "```python\n",
        "another_line.strip().split(',')\n",
        "```"
      ]
    },
    {
      "cell_type": "code",
      "execution_count": null,
      "metadata": {
        "id": "Qo_qvfpKfLz5",
        "outputId": "db226a85-a6e8-4a4e-8300-26fcd3d7a484"
      },
      "outputs": [
        {
          "data": {
            "text/plain": [
              "'ceda3a4603,other\\n'"
            ]
          },
          "execution_count": 24,
          "metadata": {},
          "output_type": "execute_result"
        }
      ],
      "source": [
        "another_line = f.readline()\n",
        "another_line"
      ]
    },
    {
      "cell_type": "code",
      "execution_count": null,
      "metadata": {
        "id": "WCKur0YxfLz5",
        "outputId": "94a9cae0-64a3-4eef-8748-267d98ead5ae"
      },
      "outputs": [
        {
          "data": {
            "text/plain": [
              "'ceda3a4603,other'"
            ]
          },
          "execution_count": 25,
          "metadata": {},
          "output_type": "execute_result"
        }
      ],
      "source": [
        "# удаляем перенос строки и лишние пробелы\n",
        "another_line.strip()"
      ]
    },
    {
      "cell_type": "code",
      "execution_count": null,
      "metadata": {
        "id": "AdlNcQrjfLz5",
        "outputId": "5ffdef86-a849-440e-dcbd-7e058df2e3ac"
      },
      "outputs": [
        {
          "data": {
            "text/plain": [
              "'ceda3a4603,other\\n'"
            ]
          },
          "execution_count": 27,
          "metadata": {},
          "output_type": "execute_result"
        }
      ],
      "source": [
        "';ceda3a4603,other\\n;--!--'.strip(';-!')"
      ]
    },
    {
      "cell_type": "code",
      "execution_count": null,
      "metadata": {
        "id": "jJPFHK0GfLz6",
        "outputId": "76840a86-a49b-48d1-b552-92f71530e9b5"
      },
      "outputs": [
        {
          "data": {
            "text/plain": [
              "['ceda3a4603', 'other']"
            ]
          },
          "execution_count": 28,
          "metadata": {},
          "output_type": "execute_result"
        }
      ],
      "source": [
        "# разбиваем столбцы\n",
        "another_line.strip().split(',')"
      ]
    },
    {
      "cell_type": "code",
      "execution_count": null,
      "metadata": {
        "id": "HNjcEplDfLz6"
      },
      "outputs": [],
      "source": [
        "# закрытие файла\n",
        "f.close()"
      ]
    },
    {
      "cell_type": "code",
      "execution_count": null,
      "metadata": {
        "id": "FoE10gjKfLz6",
        "outputId": "9aa860a8-701f-4bdf-b5ee-77a99dec1f74"
      },
      "outputs": [
        {
          "ename": "ValueError",
          "evalue": "I/O operation on closed file.",
          "output_type": "error",
          "traceback": [
            "\u001b[0;31m---------------------------------------------------------------------------\u001b[0m",
            "\u001b[0;31mValueError\u001b[0m                                Traceback (most recent call last)",
            "\u001b[0;32m<ipython-input-30-f561c2044435>\u001b[0m in \u001b[0;36m<module>\u001b[0;34m\u001b[0m\n\u001b[1;32m      1\u001b[0m \u001b[0;31m# после закрытия не получится прочитать\u001b[0m\u001b[0;34m\u001b[0m\u001b[0;34m\u001b[0m\u001b[0m\n\u001b[0;32m----> 2\u001b[0;31m \u001b[0mf\u001b[0m\u001b[0;34m.\u001b[0m\u001b[0mreadline\u001b[0m\u001b[0;34m(\u001b[0m\u001b[0;34m)\u001b[0m\u001b[0;34m\u001b[0m\u001b[0m\n\u001b[0m",
            "\u001b[0;31mValueError\u001b[0m: I/O operation on closed file."
          ]
        }
      ],
      "source": [
        "# после закрытия не получится прочитать\n",
        "f.readline()"
      ]
    },
    {
      "cell_type": "code",
      "execution_count": null,
      "metadata": {
        "id": "JBZiSNoJfLz7"
      },
      "outputs": [],
      "source": [
        "# прочитать все строчки файла в список (т. е. в оперативную память)\n",
        "f = open('visit_log.csv', 'r')\n",
        "\n",
        "content = f.readlines()\n",
        "\n",
        "f.close()"
      ]
    },
    {
      "cell_type": "code",
      "execution_count": null,
      "metadata": {
        "id": "v9sATc55fLz7",
        "outputId": "c0d3b6bb-bc53-45a5-fda0-f42ebc6b7a95"
      },
      "outputs": [
        {
          "data": {
            "text/plain": [
              "['user_id,source\\n',\n",
              " '6450655ae8,other\\n',\n",
              " 'b4ea53e670,other\\n',\n",
              " '0e37347152,other\\n',\n",
              " '96064ae9e0,other\\n']"
            ]
          },
          "execution_count": 32,
          "metadata": {},
          "output_type": "execute_result"
        }
      ],
      "source": [
        "content[:5]"
      ]
    },
    {
      "cell_type": "markdown",
      "metadata": {
        "id": "U35Y0Fc5fLz7"
      },
      "source": [
        "# Запись в файл\n",
        "Зачем все-таки открывать и закрывать файлы?"
      ]
    },
    {
      "cell_type": "code",
      "execution_count": null,
      "metadata": {
        "id": "MHz4aE9YfLz7"
      },
      "outputs": [],
      "source": [
        "f = open('results.csv', 'w')"
      ]
    },
    {
      "cell_type": "code",
      "execution_count": null,
      "metadata": {
        "id": "j7HWuK9-fLz8",
        "outputId": "06fd130f-af1a-4d55-c113-bd79f5ac3c5c"
      },
      "outputs": [
        {
          "data": {
            "text/plain": [
              "32"
            ]
          },
          "execution_count": 34,
          "metadata": {},
          "output_type": "execute_result"
        }
      ],
      "source": [
        "f.write('Начинаю запись первой строки...\\n')"
      ]
    },
    {
      "cell_type": "code",
      "execution_count": null,
      "metadata": {
        "id": "8ugaZowOfLz8",
        "outputId": "48054cf0-a495-4f9e-ad9c-3eb6a219cc59"
      },
      "outputs": [
        {
          "data": {
            "text/plain": [
              "32"
            ]
          },
          "execution_count": 35,
          "metadata": {},
          "output_type": "execute_result"
        }
      ],
      "source": [
        "f.write('Начинаю запись второй строки...\\n')"
      ]
    },
    {
      "cell_type": "markdown",
      "metadata": {
        "id": "gElLYyFFfLz8"
      },
      "source": [
        "Здесь кто-то еще хочет в него записать"
      ]
    },
    {
      "cell_type": "code",
      "execution_count": null,
      "metadata": {
        "id": "pLI0MozPfLz8"
      },
      "outputs": [],
      "source": [
        "my_friend_results = open('results.csv', 'w')"
      ]
    },
    {
      "cell_type": "code",
      "execution_count": null,
      "metadata": {
        "id": "NNfW8KvYfLz9",
        "outputId": "24ea8d01-3506-4205-d00f-c1c6b00bc272"
      },
      "outputs": [
        {
          "data": {
            "text/plain": [
              "23"
            ]
          },
          "execution_count": 37,
          "metadata": {},
          "output_type": "execute_result"
        }
      ],
      "source": [
        "my_friend_results.write('Тут еще результаты есть')"
      ]
    },
    {
      "cell_type": "code",
      "execution_count": null,
      "metadata": {
        "id": "kWdaB55RfLz9"
      },
      "outputs": [],
      "source": [
        "# пишем свой результат\n",
        "f.close()"
      ]
    },
    {
      "cell_type": "code",
      "execution_count": null,
      "metadata": {
        "id": "w3ShjBLofLz9"
      },
      "outputs": [],
      "source": [
        "# и наш результат перезатирается\n",
        "my_friend_results.close()"
      ]
    },
    {
      "cell_type": "markdown",
      "metadata": {
        "id": "t5Abue5xfLz9"
      },
      "source": [
        "### Контекстный менеджер\n",
        "Как обезопасить себя от подобных накладок"
      ]
    },
    {
      "cell_type": "code",
      "execution_count": null,
      "metadata": {
        "id": "mUhqpvpafLz9"
      },
      "outputs": [],
      "source": [
        "with open('results.csv', 'w') as f:\n",
        "    f.write('Начинаю запись первой строки...\\n')\n",
        "    f.write('Начинаю запись второй строки...\\n')\n",
        "    \n",
        "    my_friend_results = open('results.csv', 'w')\n",
        "    my_friend_results.write('Тут еще результаты есть')\n",
        "    my_friend_results.close()"
      ]
    },
    {
      "cell_type": "markdown",
      "metadata": {
        "id": "4bdTLVQyfLz-"
      },
      "source": [
        "### А можно читать и сразу в файл записывать?\n",
        "Напишите функцию, которая фильтрует файл visit_log.csv по источнику context и пишет результат в visits_context.csv. Используйте функцию из второго упражнения для проверки результата."
      ]
    },
    {
      "cell_type": "code",
      "execution_count": null,
      "metadata": {
        "id": "b5VG1rkFfLz-"
      },
      "outputs": [],
      "source": [
        "with open('visit_log.csv', 'r') as f:\n",
        "    with open('visits_context.csv', 'w') as f2write:\n",
        "        for line in f:\n",
        "            if 'context' in line:\n",
        "                f2write.write(line)"
      ]
    },
    {
      "cell_type": "code",
      "execution_count": null,
      "metadata": {
        "id": "0EdfCYf4fLz-"
      },
      "outputs": [],
      "source": [
        ""
      ]
    },
    {
      "cell_type": "code",
      "execution_count": null,
      "metadata": {
        "id": "eVePaMFGfLz-"
      },
      "outputs": [],
      "source": [
        ""
      ]
    },
    {
      "cell_type": "markdown",
      "metadata": {
        "id": "MHYF1Q3RfLz-"
      },
      "source": [
        "# Чтение списков и словарей из файла\n",
        "Смотрим что в файле purchase_log.txt. Похоже тут не строки, а словари"
      ]
    },
    {
      "cell_type": "code",
      "execution_count": null,
      "metadata": {
        "id": "iDxZE1q1fLz-",
        "outputId": "48d129cf-1c73-43d2-d110-b73c5eaf08ed"
      },
      "outputs": [
        {
          "name": "stdout",
          "output_type": "stream",
          "text": [
            "['{\"user_id\": \"user_id\", \"category\": \"category\"}\\n', '{\"user_id\": \"1840e0b9d4\", \"category\": \"Продукты\"}\\n', '{\"user_id\": \"4e4f90fcfb\", \"category\": \"Электроника\"}\\n', '{\"user_id\": \"afea8d72fc\", \"category\": \"Электроника\"}\\n', '{\"user_id\": \"373a6055fe\", \"category\": \"Бытовая техника\"}\\n']\n"
          ]
        }
      ],
      "source": [
        "with open('purchase_log.txt') as f:\n",
        "    print([next(f) for x in range(5)])"
      ]
    },
    {
      "cell_type": "code",
      "execution_count": null,
      "metadata": {
        "id": "IEE9ZFTVfLz-"
      },
      "outputs": [],
      "source": [
        "import json"
      ]
    },
    {
      "cell_type": "code",
      "execution_count": null,
      "metadata": {
        "id": "WmodiQ9wfLz_",
        "outputId": "810141b2-4620-40ea-a9bb-c2a1f7150683"
      },
      "outputs": [
        {
          "data": {
            "text/plain": [
              "dict"
            ]
          },
          "execution_count": 44,
          "metadata": {},
          "output_type": "execute_result"
        }
      ],
      "source": [
        "# перевод строки в словарь\n",
        "dict_in_string = '{\"a\": 1, \"b\": 2}'\n",
        "\n",
        "type(json.loads(dict_in_string))"
      ]
    },
    {
      "cell_type": "code",
      "execution_count": null,
      "metadata": {
        "scrolled": true,
        "id": "YkNtUPuzfLz_",
        "outputId": "4dfaf93a-2710-4f59-eb3c-4e89080262fa"
      },
      "outputs": [
        {
          "data": {
            "text/plain": [
              "{'a': 1, 'b': 2}"
            ]
          },
          "execution_count": 45,
          "metadata": {},
          "output_type": "execute_result"
        }
      ],
      "source": [
        "json.loads(dict_in_string)"
      ]
    },
    {
      "cell_type": "code",
      "execution_count": null,
      "metadata": {
        "id": "-rYfUjBofLz_",
        "outputId": "1675962f-a1d9-4876-a5bf-4ef67624b303"
      },
      "outputs": [
        {
          "data": {
            "text/plain": [
              "3"
            ]
          },
          "execution_count": 47,
          "metadata": {},
          "output_type": "execute_result"
        }
      ],
      "source": [
        "# перевод строки в список\n",
        "list_in_string = '[1, 2, 3]'\n",
        "\n",
        "json.loads(list_in_string)[-1]"
      ]
    },
    {
      "cell_type": "code",
      "execution_count": null,
      "metadata": {
        "id": "afrRfMIYfLz_",
        "outputId": "9810efc3-7151-468e-cfc8-7b7cb6bedddf"
      },
      "outputs": [
        {
          "data": {
            "text/plain": [
              "[1, 2, 3]"
            ]
          },
          "execution_count": 48,
          "metadata": {},
          "output_type": "execute_result"
        }
      ],
      "source": [
        "json.loads(list_in_string)"
      ]
    },
    {
      "cell_type": "code",
      "execution_count": null,
      "metadata": {
        "id": "hZalA1JUfLz_",
        "outputId": "35464c8e-40cf-4f9c-c17d-8f4a223b33e9"
      },
      "outputs": [
        {
          "name": "stdout",
          "output_type": "stream",
          "text": [
            "{'user_id': 'user_id', 'category': 'category'} <class 'dict'>\n",
            "{'user_id': '1840e0b9d4', 'category': 'Продукты'} <class 'dict'>\n",
            "{'user_id': '4e4f90fcfb', 'category': 'Электроника'} <class 'dict'>\n",
            "{'user_id': 'afea8d72fc', 'category': 'Электроника'} <class 'dict'>\n",
            "{'user_id': '373a6055fe', 'category': 'Бытовая техника'} <class 'dict'>\n",
            "{'user_id': '9b2ab046f3', 'category': 'Электроника'} <class 'dict'>\n"
          ]
        }
      ],
      "source": [
        "i = 0\n",
        "with open('purchase_log.txt') as f:\n",
        "    for line in f:\n",
        "        line = line.strip()\n",
        "        \n",
        "        dict_ = json.loads(line)\n",
        "        print(dict_, type(dict_))\n",
        "        \n",
        "        i += 1\n",
        "        if i > 5:\n",
        "            break"
      ]
    },
    {
      "cell_type": "code",
      "execution_count": null,
      "metadata": {
        "id": "jp5gy327fL0A"
      },
      "outputs": [],
      "source": [
        "dict_ = 1"
      ]
    },
    {
      "cell_type": "markdown",
      "metadata": {
        "id": "ZIYXJuPKfL0A"
      },
      "source": [
        "### Из словаря в строку тоже можно"
      ]
    },
    {
      "cell_type": "code",
      "execution_count": null,
      "metadata": {
        "id": "7_Bh02iZfL0A"
      },
      "outputs": [],
      "source": [
        "data = {'user_id': '1840e0b9d4', 'category': 'Продукты'}"
      ]
    },
    {
      "cell_type": "code",
      "execution_count": null,
      "metadata": {
        "id": "2hvUKPsnfL0A",
        "outputId": "b6cc8a63-4b56-4b24-9edd-f0c3e6ee1982"
      },
      "outputs": [
        {
          "data": {
            "text/plain": [
              "\"{'user_id': '1840e0b9d4', 'category': 'Продукты'}\""
            ]
          },
          "execution_count": 51,
          "metadata": {},
          "output_type": "execute_result"
        }
      ],
      "source": [
        "str(data)"
      ]
    },
    {
      "cell_type": "code",
      "execution_count": null,
      "metadata": {
        "scrolled": true,
        "id": "uv0z_G8nfL0A",
        "outputId": "e9aabc8d-c85a-4fa8-ec03-ed0002bec9d9"
      },
      "outputs": [
        {
          "data": {
            "text/plain": [
              "'{\"user_id\": \"1840e0b9d4\", \"category\": \"\\\\u041f\\\\u0440\\\\u043e\\\\u0434\\\\u0443\\\\u043a\\\\u0442\\\\u044b\"}'"
            ]
          },
          "execution_count": 52,
          "metadata": {},
          "output_type": "execute_result"
        }
      ],
      "source": [
        "json.dumps(data)"
      ]
    },
    {
      "cell_type": "code",
      "execution_count": null,
      "metadata": {
        "id": "lOfjsWc4fL0A",
        "outputId": "333cebc1-6d95-4885-8673-783dc6273d22"
      },
      "outputs": [
        {
          "data": {
            "text/plain": [
              "str"
            ]
          },
          "execution_count": 53,
          "metadata": {},
          "output_type": "execute_result"
        }
      ],
      "source": [
        "type(json.dumps(data))"
      ]
    },
    {
      "cell_type": "markdown",
      "metadata": {
        "id": "SXJ8lQhwfL0B"
      },
      "source": [
        "# Модуль pickle\n",
        "Запись объекта сразу в файл как поток байтов"
      ]
    },
    {
      "cell_type": "code",
      "execution_count": null,
      "metadata": {
        "id": "GvS-OGPzfL0B"
      },
      "outputs": [],
      "source": [
        "import pickle"
      ]
    },
    {
      "cell_type": "code",
      "execution_count": null,
      "metadata": {
        "id": "-74iRco-fL0B"
      },
      "outputs": [],
      "source": [
        "data = {'user_id': '1840e0b9d4', 'category': 'Продукты'}"
      ]
    },
    {
      "cell_type": "code",
      "execution_count": null,
      "metadata": {
        "id": "qOodb6LNfL0B"
      },
      "outputs": [],
      "source": [
        "with open('data.pickle', 'wb') as f:\n",
        "    pickle.dump(data, f)"
      ]
    },
    {
      "cell_type": "code",
      "execution_count": null,
      "metadata": {
        "id": "sIIBvQ8zfL0B",
        "outputId": "90d30677-791c-41f9-b3a9-f24e528fab60"
      },
      "outputs": [
        {
          "data": {
            "text/plain": [
              "({'user_id': '1840e0b9d4', 'category': 'Продукты'}, '1840e0b9d4')"
            ]
          },
          "execution_count": 57,
          "metadata": {},
          "output_type": "execute_result"
        }
      ],
      "source": [
        "# прочитать объект из такого файла\n",
        "\n",
        "with open('data.pickle', 'rb') as f:\n",
        "    dict_ = pickle.load(f)\n",
        "    \n",
        "dict_, dict_['user_id']"
      ]
    },
    {
      "cell_type": "markdown",
      "metadata": {
        "id": "Ch8vRqakfL0C"
      },
      "source": [
        "# Чтение файлов из папки"
      ]
    },
    {
      "cell_type": "code",
      "execution_count": null,
      "metadata": {
        "id": "giWJOSnRfL0C"
      },
      "outputs": [],
      "source": [
        "import os"
      ]
    },
    {
      "cell_type": "code",
      "execution_count": null,
      "metadata": {
        "scrolled": true,
        "id": "S775_KBvfL0C",
        "outputId": "5831ffdb-6901-4dc9-9608-c6794c6681b1"
      },
      "outputs": [
        {
          "name": "stdout",
          "output_type": "stream",
          "text": [
            "file_2.csv\n",
            "file_3.csv\n",
            "file_1.csv\n"
          ]
        }
      ],
      "source": [
        "# чтение файлов и папок\n",
        "for file in os.listdir('data'):\n",
        "    if '.csv' in file:\n",
        "        print(file)"
      ]
    },
    {
      "cell_type": "code",
      "execution_count": null,
      "metadata": {
        "id": "pU6Rsb0mfL0C",
        "outputId": "182089c9-04a6-4de1-d124-f9002f1d30ac"
      },
      "outputs": [
        {
          "name": "stdout",
          "output_type": "stream",
          "text": [
            "data ['more_data'] ['.DS_Store', 'file_2.csv', 'file_3.csv', 'file_1.csv']\n",
            "data/more_data [] ['file_4.csv', 'file_5.csv']\n"
          ]
        }
      ],
      "source": [
        "# чтение всех файлов и папок, в том числе вложенных\n",
        "for root, directory, file in os.walk('data'):\n",
        "    print(root, directory, file)"
      ]
    },
    {
      "cell_type": "markdown",
      "metadata": {
        "id": "Q-OIAkRLfL0C"
      },
      "source": [
        "# Каталог пакетов pip (Python Package Index)\n",
        "Варианты установки\n",
        "1. С помощью Anaconda Navigator\n",
        "2. В командной строке (Terminal на маке)\n",
        "```bash\n",
        "pip install package_name\n",
        "```\n",
        "3. Скачать версию с github и установить вручную\n",
        "```bash\n",
        "pip install .\n",
        "```\n",
        "\n",
        "Пакеты устанавливаются в определенное окружение! Вам пригодится virtualenv"
      ]
    },
    {
      "cell_type": "code",
      "execution_count": null,
      "metadata": {
        "id": "gdOebGJqfL0C"
      },
      "outputs": [],
      "source": [
        "!pip install pyyaml"
      ]
    },
    {
      "cell_type": "code",
      "execution_count": null,
      "metadata": {
        "id": "yOBoNZ4JfL0C"
      },
      "outputs": [],
      "source": [
        "import plotly"
      ]
    }
  ],
  "metadata": {
    "kernelspec": {
      "display_name": "Python 3",
      "language": "python",
      "name": "python3"
    },
    "language_info": {
      "codemirror_mode": {
        "name": "ipython",
        "version": 3
      },
      "file_extension": ".py",
      "mimetype": "text/x-python",
      "name": "python",
      "nbconvert_exporter": "python",
      "pygments_lexer": "ipython3",
      "version": "3.7.0"
    },
    "colab": {
      "name": "Read-write and pip.ipynb",
      "provenance": [],
      "include_colab_link": true
    }
  },
  "nbformat": 4,
  "nbformat_minor": 0
}